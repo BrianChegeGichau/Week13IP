{
  "nbformat": 4,
  "nbformat_minor": 0,
  "metadata": {
    "colab": {
      "name": "CustomerAdAnalysisModelling",
      "provenance": [],
      "authorship_tag": "ABX9TyPYpDL/UoihNdUiL1vU9Qdh",
      "include_colab_link": true
    },
    "kernelspec": {
      "name": "ir",
      "display_name": "R"
    }
  },
  "cells": [
    {
      "cell_type": "markdown",
      "metadata": {
        "id": "view-in-github",
        "colab_type": "text"
      },
      "source": [
        "<a href=\"https://colab.research.google.com/github/BrianChegeGichau/Week13IP/blob/master/CustomerAdAnalysisModelling.ipynb\" target=\"_parent\"><img src=\"https://colab.research.google.com/assets/colab-badge.svg\" alt=\"Open In Colab\"/></a>"
      ]
    },
    {
      "cell_type": "markdown",
      "metadata": {
        "id": "wDLUUIdFOAAN",
        "colab_type": "text"
      },
      "source": [
        "# 1. Understanding the Question"
      ]
    },
    {
      "cell_type": "markdown",
      "metadata": {
        "id": "zfJt3ZYNOH-x",
        "colab_type": "text"
      },
      "source": [
        "**Customer Segmentation**\n",
        "\n",
        "\n",
        "Am working as a Data Scientist consultant for a Kenyan Entrepreneur who needs to identify clients who can click her ads. The business involves teaching individuals on cryptography through an online platform. Her audiences are from various countries. She ran an ad on a related course and collected data in the process which we will be analyzing in this notebook."
      ]
    },
    {
      "cell_type": "markdown",
      "metadata": {
        "id": "X2CS2hUhQzwc",
        "colab_type": "text"
      },
      "source": [
        "# Objective of the Study"
      ]
    },
    {
      "cell_type": "markdown",
      "metadata": {
        "id": "vYxGT-k0Q4iO",
        "colab_type": "text"
      },
      "source": [
        "The main objectives of this study is:\n",
        "\n",
        "*   Find and deal with outliers, anomalies, and missing data within the dataset.\n",
        "*   Perform Univariate and Bivariate Analysis.\n",
        "*   Get insights from the data.\n",
        "*   Provide a comprehensive conclusion and recommendation.\n",
        "\n"
      ]
    },
    {
      "cell_type": "markdown",
      "metadata": {
        "id": "sm5OI-IPRv70",
        "colab_type": "text"
      },
      "source": [
        "# Metric for Success"
      ]
    },
    {
      "cell_type": "markdown",
      "metadata": {
        "id": "I_980W-IR4GQ",
        "colab_type": "text"
      },
      "source": [
        "The following are what will determine the success of my study:\n",
        "\n",
        "\n",
        "*   To get insight from all the variables in our dataset.\n",
        "*   Provide recommendations on their appropriateness of solving the given problem.\n",
        "\n"
      ]
    },
    {
      "cell_type": "markdown",
      "metadata": {
        "id": "AqZQuH0MTpm1",
        "colab_type": "text"
      },
      "source": [
        "# The Experimental Design"
      ]
    },
    {
      "cell_type": "markdown",
      "metadata": {
        "id": "gTQMm-sCTuKN",
        "colab_type": "text"
      },
      "source": [
        "The following are the steps that will be taken during the study:\n",
        "\n",
        "\n",
        "*   Importing, installing and loading the needed R packages.\n",
        "*   Reading and exploring the dataset.\n",
        "*   Finding and dealing with outliers, anomalies and missing data within the dataset.\n",
        "*   Feature engineering.\n",
        "*   Perform Univariate and Bivariate Analysis.\n",
        "*   Get to understand the measures of central tendency and spread in my data table.\n",
        "*   Provide a recommendation and a conclusion drawn from the analysis done.\n",
        "\n"
      ]
    },
    {
      "cell_type": "markdown",
      "metadata": {
        "id": "j1oLHn3SUfpA",
        "colab_type": "text"
      },
      "source": [
        "# 2. Importing, Installing and loading the R packages."
      ]
    },
    {
      "cell_type": "code",
      "metadata": {
        "id": "erzta8zH-r1e",
        "colab_type": "code",
        "colab": {
          "base_uri": "https://localhost:8080/",
          "height": 394
        },
        "outputId": "3fbfa7d3-8a3a-4be5-edd1-b4acd8b1f262"
      },
      "source": [
        "#Installing the data table package\n",
        "install.packages(\"data.table\", dependencies=TRUE)\n",
        "#Installing the visualization package;ggplot2 and the corrplot\n",
        "install.packages(\"ggplot2\", dependencies=TRUE)\n",
        "install.packages(\"corrplot\", dependencies=TRUE)"
      ],
      "execution_count": 1,
      "outputs": [
        {
          "output_type": "stream",
          "text": [
            "Installing package into ‘/usr/local/lib/R/site-library’\n",
            "(as ‘lib’ is unspecified)\n",
            "\n",
            "also installing the dependencies ‘bit’, ‘R.oo’, ‘R.methodsS3’, ‘RcppCCTZ’, ‘RcppDate’, ‘bit64’, ‘R.utils’, ‘xts’, ‘nanotime’, ‘zoo’\n",
            "\n",
            "\n",
            "Installing package into ‘/usr/local/lib/R/site-library’\n",
            "(as ‘lib’ is unspecified)\n",
            "\n",
            "also installing the dependencies ‘png’, ‘jpeg’, ‘checkmate’, ‘matrixStats’, ‘RcppArmadillo’, ‘e1071’, ‘fontBitstreamVera’, ‘fontLiberation’, ‘httpuv’, ‘xtable’, ‘sourcetools’, ‘fastmap’, ‘Formula’, ‘latticeExtra’, ‘gridExtra’, ‘htmlTable’, ‘viridis’, ‘sp’, ‘mvtnorm’, ‘TH.data’, ‘sandwich’, ‘SparseM’, ‘MatrixModels’, ‘conquer’, ‘classInt’, ‘units’, ‘diffobj’, ‘fontquiver’, ‘freetypeharfbuzz’, ‘shiny’, ‘ggplot2movies’, ‘hexbin’, ‘Hmisc’, ‘mapproj’, ‘maps’, ‘maptools’, ‘multcomp’, ‘profvis’, ‘quantreg’, ‘rgeos’, ‘sf’, ‘vdiffr’\n",
            "\n",
            "\n",
            "Warning message in install.packages(\"ggplot2\", dependencies = TRUE):\n",
            "“installation of package ‘units’ had non-zero exit status”\n",
            "Warning message in install.packages(\"ggplot2\", dependencies = TRUE):\n",
            "“installation of package ‘rgeos’ had non-zero exit status”\n",
            "Warning message in install.packages(\"ggplot2\", dependencies = TRUE):\n",
            "“installation of package ‘sf’ had non-zero exit status”\n",
            "Installing package into ‘/usr/local/lib/R/site-library’\n",
            "(as ‘lib’ is unspecified)\n",
            "\n"
          ],
          "name": "stderr"
        }
      ]
    },
    {
      "cell_type": "code",
      "metadata": {
        "id": "PItAjK-i_rKz",
        "colab_type": "code",
        "colab": {
          "base_uri": "https://localhost:8080/",
          "height": 51
        },
        "outputId": "f19a91c5-ac5f-4063-bb1a-5da8c3c2849b"
      },
      "source": [
        "#Loading the package libraries on our notebook.\n",
        "library(data.table)\n",
        "library(corrplot)\n",
        "library(ggplot2)"
      ],
      "execution_count": 2,
      "outputs": [
        {
          "output_type": "stream",
          "text": [
            "corrplot 0.84 loaded\n",
            "\n"
          ],
          "name": "stderr"
        }
      ]
    },
    {
      "cell_type": "markdown",
      "metadata": {
        "id": "m36q4gD0UquY",
        "colab_type": "text"
      },
      "source": [
        "#  3. Reading and Exploring the Dataset"
      ]
    },
    {
      "cell_type": "code",
      "metadata": {
        "id": "SwN0xBuVEUwx",
        "colab_type": "code",
        "colab": {
          "base_uri": "https://localhost:8080/",
          "height": 204
        },
        "outputId": "f6b6c25b-3869-41c3-e72a-778621552761"
      },
      "source": [
        "#Loading the dataset in our notebook and previewing the top rows in the dataset\n",
        "df <- fread('advertising.csv')\n",
        "head(df)"
      ],
      "execution_count": 46,
      "outputs": [
        {
          "output_type": "display_data",
          "data": {
            "text/plain": [
              "  Daily Time Spent on Site Age Area Income Daily Internet Usage\n",
              "1 68.95                    35  61833.90    256.09              \n",
              "2 80.23                    31  68441.85    193.77              \n",
              "3 69.47                    26  59785.94    236.50              \n",
              "4 74.15                    29  54806.18    245.89              \n",
              "5 68.37                    35  73889.99    225.58              \n",
              "6 59.99                    23  59761.56    226.74              \n",
              "  Ad Topic Line                         City           Male Country   \n",
              "1 Cloned 5thgeneration orchestration    Wrightburgh    0    Tunisia   \n",
              "2 Monitored national standardization    West Jodi      1    Nauru     \n",
              "3 Organic bottom-line service-desk      Davidton       0    San Marino\n",
              "4 Triple-buffered reciprocal time-frame West Terrifurt 1    Italy     \n",
              "5 Robust logistical utilization         South Manuel   0    Iceland   \n",
              "6 Sharable client-driven software       Jamieberg      1    Norway    \n",
              "  Timestamp           Clicked on Ad\n",
              "1 2016-03-27 00:53:11 0            \n",
              "2 2016-04-04 01:39:02 0            \n",
              "3 2016-03-13 20:35:42 0            \n",
              "4 2016-01-10 02:31:19 0            \n",
              "5 2016-06-03 03:36:18 0            \n",
              "6 2016-05-19 14:30:17 0            "
            ],
            "text/latex": "A data.table: 6 × 10\n\\begin{tabular}{llllllllll}\n Daily Time Spent on Site & Age & Area Income & Daily Internet Usage & Ad Topic Line & City & Male & Country & Timestamp & Clicked on Ad\\\\\n <dbl> & <int> & <dbl> & <dbl> & <chr> & <chr> & <int> & <chr> & <chr> & <int>\\\\\n\\hline\n\t 68.95 & 35 & 61833.90 & 256.09 & Cloned 5thgeneration orchestration    & Wrightburgh    & 0 & Tunisia    & 2016-03-27 00:53:11 & 0\\\\\n\t 80.23 & 31 & 68441.85 & 193.77 & Monitored national standardization    & West Jodi      & 1 & Nauru      & 2016-04-04 01:39:02 & 0\\\\\n\t 69.47 & 26 & 59785.94 & 236.50 & Organic bottom-line service-desk      & Davidton       & 0 & San Marino & 2016-03-13 20:35:42 & 0\\\\\n\t 74.15 & 29 & 54806.18 & 245.89 & Triple-buffered reciprocal time-frame & West Terrifurt & 1 & Italy      & 2016-01-10 02:31:19 & 0\\\\\n\t 68.37 & 35 & 73889.99 & 225.58 & Robust logistical utilization         & South Manuel   & 0 & Iceland    & 2016-06-03 03:36:18 & 0\\\\\n\t 59.99 & 23 & 59761.56 & 226.74 & Sharable client-driven software       & Jamieberg      & 1 & Norway     & 2016-05-19 14:30:17 & 0\\\\\n\\end{tabular}\n",
            "text/markdown": "\nA data.table: 6 × 10\n\n| Daily Time Spent on Site &lt;dbl&gt; | Age &lt;int&gt; | Area Income &lt;dbl&gt; | Daily Internet Usage &lt;dbl&gt; | Ad Topic Line &lt;chr&gt; | City &lt;chr&gt; | Male &lt;int&gt; | Country &lt;chr&gt; | Timestamp &lt;chr&gt; | Clicked on Ad &lt;int&gt; |\n|---|---|---|---|---|---|---|---|---|---|\n| 68.95 | 35 | 61833.90 | 256.09 | Cloned 5thgeneration orchestration    | Wrightburgh    | 0 | Tunisia    | 2016-03-27 00:53:11 | 0 |\n| 80.23 | 31 | 68441.85 | 193.77 | Monitored national standardization    | West Jodi      | 1 | Nauru      | 2016-04-04 01:39:02 | 0 |\n| 69.47 | 26 | 59785.94 | 236.50 | Organic bottom-line service-desk      | Davidton       | 0 | San Marino | 2016-03-13 20:35:42 | 0 |\n| 74.15 | 29 | 54806.18 | 245.89 | Triple-buffered reciprocal time-frame | West Terrifurt | 1 | Italy      | 2016-01-10 02:31:19 | 0 |\n| 68.37 | 35 | 73889.99 | 225.58 | Robust logistical utilization         | South Manuel   | 0 | Iceland    | 2016-06-03 03:36:18 | 0 |\n| 59.99 | 23 | 59761.56 | 226.74 | Sharable client-driven software       | Jamieberg      | 1 | Norway     | 2016-05-19 14:30:17 | 0 |\n\n",
            "text/html": [
              "<table>\n",
              "<caption>A data.table: 6 × 10</caption>\n",
              "<thead>\n",
              "\t<tr><th scope=col>Daily Time Spent on Site</th><th scope=col>Age</th><th scope=col>Area Income</th><th scope=col>Daily Internet Usage</th><th scope=col>Ad Topic Line</th><th scope=col>City</th><th scope=col>Male</th><th scope=col>Country</th><th scope=col>Timestamp</th><th scope=col>Clicked on Ad</th></tr>\n",
              "\t<tr><th scope=col>&lt;dbl&gt;</th><th scope=col>&lt;int&gt;</th><th scope=col>&lt;dbl&gt;</th><th scope=col>&lt;dbl&gt;</th><th scope=col>&lt;chr&gt;</th><th scope=col>&lt;chr&gt;</th><th scope=col>&lt;int&gt;</th><th scope=col>&lt;chr&gt;</th><th scope=col>&lt;chr&gt;</th><th scope=col>&lt;int&gt;</th></tr>\n",
              "</thead>\n",
              "<tbody>\n",
              "\t<tr><td>68.95</td><td>35</td><td>61833.90</td><td>256.09</td><td>Cloned 5thgeneration orchestration   </td><td>Wrightburgh   </td><td>0</td><td>Tunisia   </td><td>2016-03-27 00:53:11</td><td>0</td></tr>\n",
              "\t<tr><td>80.23</td><td>31</td><td>68441.85</td><td>193.77</td><td>Monitored national standardization   </td><td>West Jodi     </td><td>1</td><td>Nauru     </td><td>2016-04-04 01:39:02</td><td>0</td></tr>\n",
              "\t<tr><td>69.47</td><td>26</td><td>59785.94</td><td>236.50</td><td>Organic bottom-line service-desk     </td><td>Davidton      </td><td>0</td><td>San Marino</td><td>2016-03-13 20:35:42</td><td>0</td></tr>\n",
              "\t<tr><td>74.15</td><td>29</td><td>54806.18</td><td>245.89</td><td>Triple-buffered reciprocal time-frame</td><td>West Terrifurt</td><td>1</td><td>Italy     </td><td>2016-01-10 02:31:19</td><td>0</td></tr>\n",
              "\t<tr><td>68.37</td><td>35</td><td>73889.99</td><td>225.58</td><td>Robust logistical utilization        </td><td>South Manuel  </td><td>0</td><td>Iceland   </td><td>2016-06-03 03:36:18</td><td>0</td></tr>\n",
              "\t<tr><td>59.99</td><td>23</td><td>59761.56</td><td>226.74</td><td>Sharable client-driven software      </td><td>Jamieberg     </td><td>1</td><td>Norway    </td><td>2016-05-19 14:30:17</td><td>0</td></tr>\n",
              "</tbody>\n",
              "</table>\n"
            ]
          },
          "metadata": {
            "tags": []
          }
        }
      ]
    },
    {
      "cell_type": "markdown",
      "metadata": {
        "id": "wcKKgecJPTev",
        "colab_type": "text"
      },
      "source": [
        "The dataset has a sum of 10 columns. All the columns are in their correct formats save for the Timestamp which has a character datatype. This will need to be changed so as to extract some data from it."
      ]
    },
    {
      "cell_type": "markdown",
      "metadata": {
        "id": "qOHO17wUV7IO",
        "colab_type": "text"
      },
      "source": [
        "# 4. Cleaning the Dataset"
      ]
    },
    {
      "cell_type": "code",
      "metadata": {
        "id": "T1HazL7xvHpV",
        "colab_type": "code",
        "colab": {}
      },
      "source": [
        "#Changing the Column names to my preferred system.\n",
        "df = setnames(df, 'Male','Gender')\n",
        "df = setnames(df, 'Daily Time Spent on Site','Time_Spent_on_Site')\n",
        "df = setnames(df, 'Area Income','Area_Income')\n",
        "df = setnames(df, 'Daily Internet Usage','Daily_Internet_Usage')\n",
        "df = setnames(df, 'Clicked on Ad','Clicked_on_Ad')"
      ],
      "execution_count": 47,
      "outputs": []
    },
    {
      "cell_type": "code",
      "metadata": {
        "id": "rg8LvMn1J-tm",
        "colab_type": "code",
        "colab": {
          "base_uri": "https://localhost:8080/",
          "height": 207
        },
        "outputId": "c2927548-bbec-4bd4-9258-d1365cd860f1"
      },
      "source": [
        "install.packages(\"dplyr\",dependencies = TRUE)"
      ],
      "execution_count": 5,
      "outputs": [
        {
          "output_type": "stream",
          "text": [
            "Installing package into ‘/usr/local/lib/R/site-library’\n",
            "(as ‘lib’ is unspecified)\n",
            "\n",
            "also installing the dependencies ‘profmem’, ‘plogr’, ‘bench’, ‘Lahman’, ‘lobstr’, ‘microbenchmark’, ‘nycflights13’, ‘RMySQL’, ‘RPostgreSQL’, ‘RSQLite’\n",
            "\n",
            "\n",
            "Warning message in install.packages(\"dplyr\", dependencies = TRUE):\n",
            "“installation of package ‘RMySQL’ had non-zero exit status”\n",
            "Warning message in install.packages(\"dplyr\", dependencies = TRUE):\n",
            "“installation of package ‘RPostgreSQL’ had non-zero exit status”\n"
          ],
          "name": "stderr"
        }
      ]
    },
    {
      "cell_type": "code",
      "metadata": {
        "id": "k_j0XCVjKF9b",
        "colab_type": "code",
        "colab": {
          "base_uri": "https://localhost:8080/",
          "height": 340
        },
        "outputId": "08087dd7-a22c-4b24-fc25-c400b2227400"
      },
      "source": [
        "library(\"dplyr\")"
      ],
      "execution_count": 6,
      "outputs": [
        {
          "output_type": "stream",
          "text": [
            "\n",
            "Attaching package: ‘dplyr’\n",
            "\n",
            "\n",
            "The following objects are masked from ‘package:data.table’:\n",
            "\n",
            "    between, first, last\n",
            "\n",
            "\n",
            "The following objects are masked from ‘package:stats’:\n",
            "\n",
            "    filter, lag\n",
            "\n",
            "\n",
            "The following objects are masked from ‘package:base’:\n",
            "\n",
            "    intersect, setdiff, setequal, union\n",
            "\n",
            "\n"
          ],
          "name": "stderr"
        }
      ]
    },
    {
      "cell_type": "code",
      "metadata": {
        "id": "wAGHzZmPvGYt",
        "colab_type": "code",
        "colab": {}
      },
      "source": [
        "#Since the Gender column had been encoded I changed it to the right representative format\n",
        "df$Gender = as.character(df$Gender)\n",
        "df$Gender <- recode(df$Gender , \"1\" = \"Male\", \"0\" = \"Female\" )"
      ],
      "execution_count": 48,
      "outputs": []
    },
    {
      "cell_type": "code",
      "metadata": {
        "id": "V-bpYy4ZVcRj",
        "colab_type": "code",
        "colab": {
          "base_uri": "https://localhost:8080/",
          "height": 204
        },
        "outputId": "6adadc87-0d13-4156-f594-a6ba24854a97"
      },
      "source": [
        "#Changing the Timestamp data type\n",
        "df$Timestamp <- as.Date(df$Timestamp)\n",
        "head(df)"
      ],
      "execution_count": 49,
      "outputs": [
        {
          "output_type": "display_data",
          "data": {
            "text/plain": [
              "  Time_Spent_on_Site Age Area_Income Daily_Internet_Usage\n",
              "1 68.95              35  61833.90    256.09              \n",
              "2 80.23              31  68441.85    193.77              \n",
              "3 69.47              26  59785.94    236.50              \n",
              "4 74.15              29  54806.18    245.89              \n",
              "5 68.37              35  73889.99    225.58              \n",
              "6 59.99              23  59761.56    226.74              \n",
              "  Ad Topic Line                         City           Gender Country   \n",
              "1 Cloned 5thgeneration orchestration    Wrightburgh    Female Tunisia   \n",
              "2 Monitored national standardization    West Jodi      Male   Nauru     \n",
              "3 Organic bottom-line service-desk      Davidton       Female San Marino\n",
              "4 Triple-buffered reciprocal time-frame West Terrifurt Male   Italy     \n",
              "5 Robust logistical utilization         South Manuel   Female Iceland   \n",
              "6 Sharable client-driven software       Jamieberg      Male   Norway    \n",
              "  Timestamp  Clicked_on_Ad\n",
              "1 2016-03-27 0            \n",
              "2 2016-04-04 0            \n",
              "3 2016-03-13 0            \n",
              "4 2016-01-10 0            \n",
              "5 2016-06-03 0            \n",
              "6 2016-05-19 0            "
            ],
            "text/latex": "A data.table: 6 × 10\n\\begin{tabular}{llllllllll}\n Time\\_Spent\\_on\\_Site & Age & Area\\_Income & Daily\\_Internet\\_Usage & Ad Topic Line & City & Gender & Country & Timestamp & Clicked\\_on\\_Ad\\\\\n <dbl> & <int> & <dbl> & <dbl> & <chr> & <chr> & <chr> & <chr> & <date> & <int>\\\\\n\\hline\n\t 68.95 & 35 & 61833.90 & 256.09 & Cloned 5thgeneration orchestration    & Wrightburgh    & Female & Tunisia    & 2016-03-27 & 0\\\\\n\t 80.23 & 31 & 68441.85 & 193.77 & Monitored national standardization    & West Jodi      & Male   & Nauru      & 2016-04-04 & 0\\\\\n\t 69.47 & 26 & 59785.94 & 236.50 & Organic bottom-line service-desk      & Davidton       & Female & San Marino & 2016-03-13 & 0\\\\\n\t 74.15 & 29 & 54806.18 & 245.89 & Triple-buffered reciprocal time-frame & West Terrifurt & Male   & Italy      & 2016-01-10 & 0\\\\\n\t 68.37 & 35 & 73889.99 & 225.58 & Robust logistical utilization         & South Manuel   & Female & Iceland    & 2016-06-03 & 0\\\\\n\t 59.99 & 23 & 59761.56 & 226.74 & Sharable client-driven software       & Jamieberg      & Male   & Norway     & 2016-05-19 & 0\\\\\n\\end{tabular}\n",
            "text/markdown": "\nA data.table: 6 × 10\n\n| Time_Spent_on_Site &lt;dbl&gt; | Age &lt;int&gt; | Area_Income &lt;dbl&gt; | Daily_Internet_Usage &lt;dbl&gt; | Ad Topic Line &lt;chr&gt; | City &lt;chr&gt; | Gender &lt;chr&gt; | Country &lt;chr&gt; | Timestamp &lt;date&gt; | Clicked_on_Ad &lt;int&gt; |\n|---|---|---|---|---|---|---|---|---|---|\n| 68.95 | 35 | 61833.90 | 256.09 | Cloned 5thgeneration orchestration    | Wrightburgh    | Female | Tunisia    | 2016-03-27 | 0 |\n| 80.23 | 31 | 68441.85 | 193.77 | Monitored national standardization    | West Jodi      | Male   | Nauru      | 2016-04-04 | 0 |\n| 69.47 | 26 | 59785.94 | 236.50 | Organic bottom-line service-desk      | Davidton       | Female | San Marino | 2016-03-13 | 0 |\n| 74.15 | 29 | 54806.18 | 245.89 | Triple-buffered reciprocal time-frame | West Terrifurt | Male   | Italy      | 2016-01-10 | 0 |\n| 68.37 | 35 | 73889.99 | 225.58 | Robust logistical utilization         | South Manuel   | Female | Iceland    | 2016-06-03 | 0 |\n| 59.99 | 23 | 59761.56 | 226.74 | Sharable client-driven software       | Jamieberg      | Male   | Norway     | 2016-05-19 | 0 |\n\n",
            "text/html": [
              "<table>\n",
              "<caption>A data.table: 6 × 10</caption>\n",
              "<thead>\n",
              "\t<tr><th scope=col>Time_Spent_on_Site</th><th scope=col>Age</th><th scope=col>Area_Income</th><th scope=col>Daily_Internet_Usage</th><th scope=col>Ad Topic Line</th><th scope=col>City</th><th scope=col>Gender</th><th scope=col>Country</th><th scope=col>Timestamp</th><th scope=col>Clicked_on_Ad</th></tr>\n",
              "\t<tr><th scope=col>&lt;dbl&gt;</th><th scope=col>&lt;int&gt;</th><th scope=col>&lt;dbl&gt;</th><th scope=col>&lt;dbl&gt;</th><th scope=col>&lt;chr&gt;</th><th scope=col>&lt;chr&gt;</th><th scope=col>&lt;chr&gt;</th><th scope=col>&lt;chr&gt;</th><th scope=col>&lt;date&gt;</th><th scope=col>&lt;int&gt;</th></tr>\n",
              "</thead>\n",
              "<tbody>\n",
              "\t<tr><td>68.95</td><td>35</td><td>61833.90</td><td>256.09</td><td>Cloned 5thgeneration orchestration   </td><td>Wrightburgh   </td><td>Female</td><td>Tunisia   </td><td>2016-03-27</td><td>0</td></tr>\n",
              "\t<tr><td>80.23</td><td>31</td><td>68441.85</td><td>193.77</td><td>Monitored national standardization   </td><td>West Jodi     </td><td>Male  </td><td>Nauru     </td><td>2016-04-04</td><td>0</td></tr>\n",
              "\t<tr><td>69.47</td><td>26</td><td>59785.94</td><td>236.50</td><td>Organic bottom-line service-desk     </td><td>Davidton      </td><td>Female</td><td>San Marino</td><td>2016-03-13</td><td>0</td></tr>\n",
              "\t<tr><td>74.15</td><td>29</td><td>54806.18</td><td>245.89</td><td>Triple-buffered reciprocal time-frame</td><td>West Terrifurt</td><td>Male  </td><td>Italy     </td><td>2016-01-10</td><td>0</td></tr>\n",
              "\t<tr><td>68.37</td><td>35</td><td>73889.99</td><td>225.58</td><td>Robust logistical utilization        </td><td>South Manuel  </td><td>Female</td><td>Iceland   </td><td>2016-06-03</td><td>0</td></tr>\n",
              "\t<tr><td>59.99</td><td>23</td><td>59761.56</td><td>226.74</td><td>Sharable client-driven software      </td><td>Jamieberg     </td><td>Male  </td><td>Norway    </td><td>2016-05-19</td><td>0</td></tr>\n",
              "</tbody>\n",
              "</table>\n"
            ]
          },
          "metadata": {
            "tags": []
          }
        }
      ]
    },
    {
      "cell_type": "markdown",
      "metadata": {
        "id": "P5jYnI6AV0xS",
        "colab_type": "text"
      },
      "source": [
        "The Timestamp data type is now changed to a date format."
      ]
    },
    {
      "cell_type": "code",
      "metadata": {
        "id": "wv0dHyBjHQOW",
        "colab_type": "code",
        "colab": {
          "base_uri": "https://localhost:8080/",
          "height": 51
        },
        "outputId": "39d984cd-4aa2-4034-fcea-bce50860af74"
      },
      "source": [
        "#Checking the missing values in our columns\n",
        "colSums(is.na(df))"
      ],
      "execution_count": null,
      "outputs": [
        {
          "output_type": "display_data",
          "data": {
            "text/plain": [
              "Daily Time Spent on Site                      Age              Area Income \n",
              "                       0                        0                        0 \n",
              "    Daily Internet Usage            Ad Topic Line                     City \n",
              "                       0                        0                        0 \n",
              "                    Male                  Country                Timestamp \n",
              "                       0                        0                        0 \n",
              "           Clicked on Ad \n",
              "                       0 "
            ],
            "text/latex": "\\begin{description*}\n\\item[Daily Time Spent on Site] 0\n\\item[Age] 0\n\\item[Area Income] 0\n\\item[Daily Internet Usage] 0\n\\item[Ad Topic Line] 0\n\\item[City] 0\n\\item[Male] 0\n\\item[Country] 0\n\\item[Timestamp] 0\n\\item[Clicked on Ad] 0\n\\end{description*}\n",
            "text/markdown": "Daily Time Spent on Site\n:   0Age\n:   0Area Income\n:   0Daily Internet Usage\n:   0Ad Topic Line\n:   0City\n:   0Male\n:   0Country\n:   0Timestamp\n:   0Clicked on Ad\n:   0\n\n",
            "text/html": [
              "<style>\n",
              ".dl-inline {width: auto; margin:0; padding: 0}\n",
              ".dl-inline>dt, .dl-inline>dd {float: none; width: auto; display: inline-block}\n",
              ".dl-inline>dt::after {content: \":\\0020\"; padding-right: .5ex}\n",
              ".dl-inline>dt:not(:first-of-type) {padding-left: .5ex}\n",
              "</style><dl class=dl-inline><dt>Daily Time Spent on Site</dt><dd>0</dd><dt>Age</dt><dd>0</dd><dt>Area Income</dt><dd>0</dd><dt>Daily Internet Usage</dt><dd>0</dd><dt>Ad Topic Line</dt><dd>0</dd><dt>City</dt><dd>0</dd><dt>Male</dt><dd>0</dd><dt>Country</dt><dd>0</dd><dt>Timestamp</dt><dd>0</dd><dt>Clicked on Ad</dt><dd>0</dd></dl>\n"
            ]
          },
          "metadata": {
            "tags": []
          }
        }
      ]
    },
    {
      "cell_type": "markdown",
      "metadata": {
        "id": "U4v3vk8NWpbx",
        "colab_type": "text"
      },
      "source": [
        "There are no missing values in all our columns."
      ]
    },
    {
      "cell_type": "code",
      "metadata": {
        "id": "R7MW76-cWiXz",
        "colab_type": "code",
        "colab": {
          "base_uri": "https://localhost:8080/",
          "height": 78
        },
        "outputId": "0ca43cd2-eb3e-4747-88f9-f678dcc02bdf"
      },
      "source": [
        "#Checking fro duplicated rows in our columns\n",
        "duplicated_rows <- df[duplicated(df),]\n",
        "duplicated_rows"
      ],
      "execution_count": null,
      "outputs": [
        {
          "output_type": "display_data",
          "data": {
            "text/plain": [
              "     Daily Time Spent on Site Age Area Income Daily Internet Usage\n",
              "     Ad Topic Line City Male Country Timestamp Clicked on Ad"
            ],
            "text/latex": "A data.table: 0 × 10\n\\begin{tabular}{llllllllll}\n Daily Time Spent on Site & Age & Area Income & Daily Internet Usage & Ad Topic Line & City & Male & Country & Timestamp & Clicked on Ad\\\\\n <dbl> & <int> & <dbl> & <dbl> & <chr> & <chr> & <int> & <chr> & <chr> & <int>\\\\\n\\hline\n\\end{tabular}\n",
            "text/markdown": "\nA data.table: 0 × 10\n\n| Daily Time Spent on Site &lt;dbl&gt; | Age &lt;int&gt; | Area Income &lt;dbl&gt; | Daily Internet Usage &lt;dbl&gt; | Ad Topic Line &lt;chr&gt; | City &lt;chr&gt; | Male &lt;int&gt; | Country &lt;chr&gt; | Timestamp &lt;chr&gt; | Clicked on Ad &lt;int&gt; |\n|---|---|---|---|---|---|---|---|---|---|\n\n",
            "text/html": [
              "<table>\n",
              "<caption>A data.table: 0 × 10</caption>\n",
              "<thead>\n",
              "\t<tr><th scope=col>Daily Time Spent on Site</th><th scope=col>Age</th><th scope=col>Area Income</th><th scope=col>Daily Internet Usage</th><th scope=col>Ad Topic Line</th><th scope=col>City</th><th scope=col>Male</th><th scope=col>Country</th><th scope=col>Timestamp</th><th scope=col>Clicked on Ad</th></tr>\n",
              "\t<tr><th scope=col>&lt;dbl&gt;</th><th scope=col>&lt;int&gt;</th><th scope=col>&lt;dbl&gt;</th><th scope=col>&lt;dbl&gt;</th><th scope=col>&lt;chr&gt;</th><th scope=col>&lt;chr&gt;</th><th scope=col>&lt;int&gt;</th><th scope=col>&lt;chr&gt;</th><th scope=col>&lt;chr&gt;</th><th scope=col>&lt;int&gt;</th></tr>\n",
              "</thead>\n",
              "<tbody>\n",
              "</tbody>\n",
              "</table>\n"
            ]
          },
          "metadata": {
            "tags": []
          }
        }
      ]
    },
    {
      "cell_type": "markdown",
      "metadata": {
        "id": "mA4zVVwwXCRc",
        "colab_type": "text"
      },
      "source": [
        "There are no duplicated rows in our dataset."
      ]
    },
    {
      "cell_type": "code",
      "metadata": {
        "id": "C-iJuu4m0Y6N",
        "colab_type": "code",
        "colab": {}
      },
      "source": [
        "#Defining the numerical columns in our dataset for checking for outliers.\n",
        "time <- df$`Daily Time Spent on Site`\n",
        "age <- df$Age\n",
        "income <- df$`Area Income`\n",
        "internet <- df$`Daily Internet Usage`"
      ],
      "execution_count": null,
      "outputs": []
    },
    {
      "cell_type": "code",
      "metadata": {
        "id": "VbDbsqBJ0YVi",
        "colab_type": "code",
        "colab": {
          "base_uri": "https://localhost:8080/",
          "height": 437
        },
        "outputId": "d5298579-2da9-40c8-81c5-584be2374e22"
      },
      "source": [
        "#Checking for outliers in our numerical columns\n",
        "boxplot(time, age, income, internet,\n",
        "main = \"Multiple boxplots for comparision\",\n",
        "at = c(1,2,4,5),\n",
        "names = c(\"time\", \"age\", \"income\", \"internet\"),\n",
        "las = 2,\n",
        "col = c(\"orange\",\"red\"),\n",
        "border = \"brown\",\n",
        "horizontal = TRUE,\n",
        "notch = TRUE\n",
        ")"
      ],
      "execution_count": null,
      "outputs": [
        {
          "output_type": "display_data",
          "data": {
            "image/png": "[encoded data removed]",
            "text/plain": [
              "Plot with title “Multiple boxplots for comparision”"
            ]
          },
          "metadata": {
            "tags": [],
            "image/png": {
              "width": 420,
              "height": 420
            }
          }
        }
      ]
    },
    {
      "cell_type": "markdown",
      "metadata": {
        "id": "Ep3avXMw1sWs",
        "colab_type": "text"
      },
      "source": [
        "Key take aways:\n",
        "\n",
        "\n",
        "*   The Daily Time Spent on Site, the Age and the Daily Internet usage column do not have outliers. \n",
        "*   The Area income variable does have outliers. Given the vast nature of the income possibilies in an area it would be unwise to drop outliers in this column. Hence I will not drop outliers. \n",
        "\n"
      ]
    },
    {
      "cell_type": "markdown",
      "metadata": {
        "id": "hZs-tPOivXFu",
        "colab_type": "text"
      },
      "source": [
        "I also decided to change the Male column name to Gender for 1 to represent the Males, and 0 to represent the Females."
      ]
    },
    {
      "cell_type": "markdown",
      "metadata": {
        "id": "PDAXXOrXS_So",
        "colab_type": "text"
      },
      "source": [
        "# 5. Feature Engineering"
      ]
    },
    {
      "cell_type": "markdown",
      "metadata": {
        "id": "9D7Ve_zXpMrq",
        "colab_type": "text"
      },
      "source": [
        "I decided to split the Timestamp column into Year, Month and Day columns to visualize analyze the peak month and peak days."
      ]
    },
    {
      "cell_type": "code",
      "metadata": {
        "id": "5hBG1i9MTDBT",
        "colab_type": "code",
        "colab": {}
      },
      "source": [
        "#Importing the necessary library for splitting the dataset.\n",
        "library(tidyr)"
      ],
      "execution_count": 9,
      "outputs": []
    },
    {
      "cell_type": "code",
      "metadata": {
        "id": "LgHFwUlloG81",
        "colab_type": "code",
        "colab": {}
      },
      "source": [
        "#Separating our Time stamp column into Year, Month and day.\n",
        "df = separate(df, \"Timestamp\", c(\"Year\", \"Month\", \"Day\"), sep = \"-\")"
      ],
      "execution_count": 50,
      "outputs": []
    },
    {
      "cell_type": "markdown",
      "metadata": {
        "id": "0Gc4pBrPs_ee",
        "colab_type": "text"
      },
      "source": [
        "I decided to drop the Ad Topic Line column since it did not have much information to be extracted from as of now. I also decided to drop the Year column since the data collection occured in the Year 2016 alone."
      ]
    },
    {
      "cell_type": "code",
      "metadata": {
        "id": "4Z5Wti4cr0-c",
        "colab_type": "code",
        "colab": {}
      },
      "source": [
        "#Dropping the Ad Topic line column and the Year column.\n",
        "df = df[, c(\"Ad Topic Line\",\"Year\"):=NULL] "
      ],
      "execution_count": 51,
      "outputs": []
    },
    {
      "cell_type": "code",
      "metadata": {
        "id": "KehUoUARszwH",
        "colab_type": "code",
        "colab": {
          "base_uri": "https://localhost:8080/",
          "height": 204
        },
        "outputId": "8da83ba1-1393-412c-d1c6-2cbf07fbd4bb"
      },
      "source": [
        "#Previewing the first few rows in our data table.\n",
        "head(df)"
      ],
      "execution_count": 12,
      "outputs": [
        {
          "output_type": "display_data",
          "data": {
            "text/plain": [
              "  Time_Spent_on_Site Age Area_Income Daily_Internet_Usage City           Gender\n",
              "1 68.95              35  61833.90    256.09               Wrightburgh    Female\n",
              "2 80.23              31  68441.85    193.77               West Jodi      Male  \n",
              "3 69.47              26  59785.94    236.50               Davidton       Female\n",
              "4 74.15              29  54806.18    245.89               West Terrifurt Male  \n",
              "5 68.37              35  73889.99    225.58               South Manuel   Female\n",
              "6 59.99              23  59761.56    226.74               Jamieberg      Male  \n",
              "  Country    Month Day Clicked_on_Ad\n",
              "1 Tunisia    03    27  0            \n",
              "2 Nauru      04    04  0            \n",
              "3 San Marino 03    13  0            \n",
              "4 Italy      01    10  0            \n",
              "5 Iceland    06    03  0            \n",
              "6 Norway     05    19  0            "
            ],
            "text/latex": "A data.table: 6 × 10\n\\begin{tabular}{llllllllll}\n Time\\_Spent\\_on\\_Site & Age & Area\\_Income & Daily\\_Internet\\_Usage & City & Gender & Country & Month & Day & Clicked\\_on\\_Ad\\\\\n <dbl> & <int> & <dbl> & <dbl> & <chr> & <chr> & <chr> & <chr> & <chr> & <int>\\\\\n\\hline\n\t 68.95 & 35 & 61833.90 & 256.09 & Wrightburgh    & Female & Tunisia    & 03 & 27 & 0\\\\\n\t 80.23 & 31 & 68441.85 & 193.77 & West Jodi      & Male   & Nauru      & 04 & 04 & 0\\\\\n\t 69.47 & 26 & 59785.94 & 236.50 & Davidton       & Female & San Marino & 03 & 13 & 0\\\\\n\t 74.15 & 29 & 54806.18 & 245.89 & West Terrifurt & Male   & Italy      & 01 & 10 & 0\\\\\n\t 68.37 & 35 & 73889.99 & 225.58 & South Manuel   & Female & Iceland    & 06 & 03 & 0\\\\\n\t 59.99 & 23 & 59761.56 & 226.74 & Jamieberg      & Male   & Norway     & 05 & 19 & 0\\\\\n\\end{tabular}\n",
            "text/markdown": "\nA data.table: 6 × 10\n\n| Time_Spent_on_Site &lt;dbl&gt; | Age &lt;int&gt; | Area_Income &lt;dbl&gt; | Daily_Internet_Usage &lt;dbl&gt; | City &lt;chr&gt; | Gender &lt;chr&gt; | Country &lt;chr&gt; | Month &lt;chr&gt; | Day &lt;chr&gt; | Clicked_on_Ad &lt;int&gt; |\n|---|---|---|---|---|---|---|---|---|---|\n| 68.95 | 35 | 61833.90 | 256.09 | Wrightburgh    | Female | Tunisia    | 03 | 27 | 0 |\n| 80.23 | 31 | 68441.85 | 193.77 | West Jodi      | Male   | Nauru      | 04 | 04 | 0 |\n| 69.47 | 26 | 59785.94 | 236.50 | Davidton       | Female | San Marino | 03 | 13 | 0 |\n| 74.15 | 29 | 54806.18 | 245.89 | West Terrifurt | Male   | Italy      | 01 | 10 | 0 |\n| 68.37 | 35 | 73889.99 | 225.58 | South Manuel   | Female | Iceland    | 06 | 03 | 0 |\n| 59.99 | 23 | 59761.56 | 226.74 | Jamieberg      | Male   | Norway     | 05 | 19 | 0 |\n\n",
            "text/html": [
              "<table>\n",
              "<caption>A data.table: 6 × 10</caption>\n",
              "<thead>\n",
              "\t<tr><th scope=col>Time_Spent_on_Site</th><th scope=col>Age</th><th scope=col>Area_Income</th><th scope=col>Daily_Internet_Usage</th><th scope=col>City</th><th scope=col>Gender</th><th scope=col>Country</th><th scope=col>Month</th><th scope=col>Day</th><th scope=col>Clicked_on_Ad</th></tr>\n",
              "\t<tr><th scope=col>&lt;dbl&gt;</th><th scope=col>&lt;int&gt;</th><th scope=col>&lt;dbl&gt;</th><th scope=col>&lt;dbl&gt;</th><th scope=col>&lt;chr&gt;</th><th scope=col>&lt;chr&gt;</th><th scope=col>&lt;chr&gt;</th><th scope=col>&lt;chr&gt;</th><th scope=col>&lt;chr&gt;</th><th scope=col>&lt;int&gt;</th></tr>\n",
              "</thead>\n",
              "<tbody>\n",
              "\t<tr><td>68.95</td><td>35</td><td>61833.90</td><td>256.09</td><td>Wrightburgh   </td><td>Female</td><td>Tunisia   </td><td>03</td><td>27</td><td>0</td></tr>\n",
              "\t<tr><td>80.23</td><td>31</td><td>68441.85</td><td>193.77</td><td>West Jodi     </td><td>Male  </td><td>Nauru     </td><td>04</td><td>04</td><td>0</td></tr>\n",
              "\t<tr><td>69.47</td><td>26</td><td>59785.94</td><td>236.50</td><td>Davidton      </td><td>Female</td><td>San Marino</td><td>03</td><td>13</td><td>0</td></tr>\n",
              "\t<tr><td>74.15</td><td>29</td><td>54806.18</td><td>245.89</td><td>West Terrifurt</td><td>Male  </td><td>Italy     </td><td>01</td><td>10</td><td>0</td></tr>\n",
              "\t<tr><td>68.37</td><td>35</td><td>73889.99</td><td>225.58</td><td>South Manuel  </td><td>Female</td><td>Iceland   </td><td>06</td><td>03</td><td>0</td></tr>\n",
              "\t<tr><td>59.99</td><td>23</td><td>59761.56</td><td>226.74</td><td>Jamieberg     </td><td>Male  </td><td>Norway    </td><td>05</td><td>19</td><td>0</td></tr>\n",
              "</tbody>\n",
              "</table>\n"
            ]
          },
          "metadata": {
            "tags": []
          }
        }
      ]
    },
    {
      "cell_type": "markdown",
      "metadata": {
        "id": "0QxnYEoMSKQr",
        "colab_type": "text"
      },
      "source": [
        "# 5. Data Exploration"
      ]
    },
    {
      "cell_type": "code",
      "metadata": {
        "id": "SyW82dXgnAp3",
        "colab_type": "code",
        "colab": {
          "base_uri": "https://localhost:8080/",
          "height": 437
        },
        "outputId": "03d726d3-d914-485f-b7d0-388bc5675244"
      },
      "source": [
        "#Visualzing the number of clicked ads and no clicked ads in our dataset.\n",
        "ggplot(df, aes(Clicked_on_Ad)) + \n",
        "  geom_bar(fill = \"green\")"
      ],
      "execution_count": null,
      "outputs": [
        {
          "output_type": "display_data",
          "data": {
            "image/png": "[encoded data removed]",
            "text/plain": [
              "plot without title"
            ]
          },
          "metadata": {
            "tags": [],
            "image/png": {
              "width": 420,
              "height": 420
            }
          }
        }
      ]
    },
    {
      "cell_type": "markdown",
      "metadata": {
        "id": "GjEJVYuBnd_Z",
        "colab_type": "text"
      },
      "source": [
        "There was an equal umber of clicked ads and no clicked ads in our dataset."
      ]
    },
    {
      "cell_type": "code",
      "metadata": {
        "id": "Kr9M6fxk-_MQ",
        "colab_type": "code",
        "colab": {
          "base_uri": "https://localhost:8080/",
          "height": 437
        },
        "outputId": "fa0d4102-d385-4d0c-a52c-fd96171a0ae0"
      },
      "source": [
        "#Finding out the month with the most clicked ads\n",
        "a <- ggplot(df, aes(x = `Clicked on Ad`, y = `Month`))\n",
        "\n",
        "a + geom_col(aes(fill = `Month`)) +\n",
        "  scale_fill_manual(values = c(\"#00AFBB\", \"#E7B800\", \"#FC4E07\",\"#0073C2FF\", \"#EFC000FF\",\"#0073C2FF\",\"#E7B800\"))"
      ],
      "execution_count": null,
      "outputs": [
        {
          "output_type": "display_data",
          "data": {
            "image/png": "[encoded data removed]",
            "text/plain": [
              "plot without title"
            ]
          },
          "metadata": {
            "tags": [],
            "image/png": {
              "width": 420,
              "height": 420
            }
          }
        }
      ]
    },
    {
      "cell_type": "markdown",
      "metadata": {
        "id": "CLdb0QpZ7FlZ",
        "colab_type": "text"
      },
      "source": [
        "Key points:\n",
        "\n",
        "\n",
        "*   February and May had the most clicked ads.\n",
        "*   July had the least clicked ads. \n",
        "*   March and April had almost the same clicked ads.\n",
        "\n"
      ]
    },
    {
      "cell_type": "code",
      "metadata": {
        "id": "z6KEHOoAiqoa",
        "colab_type": "code",
        "colab": {
          "base_uri": "https://localhost:8080/",
          "height": 51
        },
        "outputId": "c00fe4c6-f210-46ca-fe00-8ef58228fc97"
      },
      "source": [
        "#Grouping by top ten days that had the most clicked ads\n",
        "day <- df %>% \n",
        "  group_by(Day) %>%\n",
        "  summarise(n=sum(Clicked_on_Ad, na.rm=TRUE)) %>%\n",
        "  arrange(desc(n))%>%\n",
        "  head(10)"
      ],
      "execution_count": null,
      "outputs": [
        {
          "output_type": "stream",
          "text": [
            "`summarise()` ungrouping output (override with `.groups` argument)\n",
            "\n"
          ],
          "name": "stderr"
        }
      ]
    },
    {
      "cell_type": "code",
      "metadata": {
        "id": "m98_p9psi8fN",
        "colab_type": "code",
        "colab": {
          "base_uri": "https://localhost:8080/",
          "height": 437
        },
        "outputId": "ed1869dc-721b-443a-c035-e5e0ff1266e7"
      },
      "source": [
        "#Visualizing the days with the most clicked ads.\n",
        "z <- ggplot(day, aes(x = `Day`, y = n))\n",
        "\n",
        "z + geom_col(aes(fill = `Day`)) +\n",
        "  scale_fill_manual(values = c(\"violet\", \"red\",\"green\",\"darkblue\",\"tomato\",\"aquamarine\",\"cyan\",\"chocolate4\",\"orange\",\"sienna1\"))"
      ],
      "execution_count": null,
      "outputs": [
        {
          "output_type": "display_data",
          "data": {
            "image/png": "[encoded data removed]",
            "text/plain": [
              "plot without title"
            ]
          },
          "metadata": {
            "tags": [],
            "image/png": {
              "width": 420,
              "height": 420
            }
          }
        }
      ]
    },
    {
      "cell_type": "markdown",
      "metadata": {
        "id": "NE_DN4qPkmQ3",
        "colab_type": "text"
      },
      "source": [
        "The following days experienced the most clicked ads:\n",
        "\n",
        "\n",
        "*   The 3rd day of the month\n",
        "*   The 23rd Day of the month\n",
        "*   The 14th day of the month\n",
        "*   The 9th day of the month.\n",
        "*   The 12th day of the month.\n",
        "\n"
      ]
    },
    {
      "cell_type": "code",
      "metadata": {
        "id": "QU4AROye_Jp_",
        "colab_type": "code",
        "colab": {
          "base_uri": "https://localhost:8080/",
          "height": 437
        },
        "outputId": "1409c75d-5c06-42bb-eefe-f3bf977605c9"
      },
      "source": [
        "#Displaying the Gender that were most likely to click the ads.\n",
        "b <- ggplot(df, aes(x = `Clicked on Ad`, y = `Gender`))\n",
        "\n",
        "b + geom_col(aes(fill = `Gender`)) +\n",
        "  scale_fill_manual(values = c('red', 'blue'))"
      ],
      "execution_count": null,
      "outputs": [
        {
          "output_type": "display_data",
          "data": {
            "image/png": "[encoded data removed]",
            "text/plain": [
              "plot without title"
            ]
          },
          "metadata": {
            "tags": [],
            "image/png": {
              "width": 420,
              "height": 420
            }
          }
        }
      ]
    },
    {
      "cell_type": "markdown",
      "metadata": {
        "id": "OYo9gjgC7lGp",
        "colab_type": "text"
      },
      "source": [
        "Females were most likely to click the ads compared to Males. "
      ]
    },
    {
      "cell_type": "markdown",
      "metadata": {
        "id": "0iW8UGfGVFKr",
        "colab_type": "text"
      },
      "source": [
        "I also wanted to find out the Gender that spent the most time daily on the site."
      ]
    },
    {
      "cell_type": "code",
      "metadata": {
        "id": "SAE-pf67To5b",
        "colab_type": "code",
        "colab": {
          "base_uri": "https://localhost:8080/",
          "height": 51
        },
        "outputId": "721c02fe-494e-4bb0-a3e2-99100140b901"
      },
      "source": [
        "#Grouping the Gender by the Daily Time Spent on the Site\n",
        "time_spent <- df %>% \n",
        "  group_by(Gender) %>%\n",
        "  summarise(n=sum(Time_Spent_on_Site, na.rm=TRUE))"
      ],
      "execution_count": null,
      "outputs": [
        {
          "output_type": "stream",
          "text": [
            "`summarise()` ungrouping output (override with `.groups` argument)\n",
            "\n"
          ],
          "name": "stderr"
        }
      ]
    },
    {
      "cell_type": "code",
      "metadata": {
        "id": "Gi5hPWuzUNqG",
        "colab_type": "code",
        "colab": {
          "base_uri": "https://localhost:8080/",
          "height": 437
        },
        "outputId": "cf8cf2ea-a8b5-434b-a550-8606f5555ce7"
      },
      "source": [
        "#Plotting the the two groups.\n",
        "e <- ggplot(time_spent, aes(x = `Gender`, y = n))\n",
        "\n",
        "e + geom_col(aes(fill = `Gender`)) +\n",
        "  scale_fill_manual(values = c(\"#00AFBB\", \"#E7B800\"))"
      ],
      "execution_count": null,
      "outputs": [
        {
          "output_type": "display_data",
          "data": {
            "image/png": "[encoded data removed]",
            "text/plain": [
              "plot without title"
            ]
          },
          "metadata": {
            "tags": [],
            "image/png": {
              "width": 420,
              "height": 420
            }
          }
        }
      ]
    },
    {
      "cell_type": "markdown",
      "metadata": {
        "id": "PGnSuhT9VXCm",
        "colab_type": "text"
      },
      "source": [
        "Females spent more time daily on the Site more than the males."
      ]
    },
    {
      "cell_type": "markdown",
      "metadata": {
        "id": "jaHOFke4ceAC",
        "colab_type": "text"
      },
      "source": [
        "I also wanted to find out the Daily Time Spent per Site per country."
      ]
    },
    {
      "cell_type": "code",
      "metadata": {
        "id": "FWmRhNeCWQwa",
        "colab_type": "code",
        "colab": {
          "base_uri": "https://localhost:8080/",
          "height": 51
        },
        "outputId": "9f568e25-8ea2-4d3d-90e8-71e747b149df"
      },
      "source": [
        "#Grouping the Country by the Daily Time spent on site.\n",
        "country <- df %>% \n",
        "  group_by(Country) %>%\n",
        "  summarise(n=sum(Time_Spent_on_Site, na.rm=TRUE)) %>%\n",
        "  arrange(desc(n))%>%\n",
        "  head(10)"
      ],
      "execution_count": null,
      "outputs": [
        {
          "output_type": "stream",
          "text": [
            "`summarise()` ungrouping output (override with `.groups` argument)\n",
            "\n"
          ],
          "name": "stderr"
        }
      ]
    },
    {
      "cell_type": "code",
      "metadata": {
        "id": "zR5X7G3nWpSl",
        "colab_type": "code",
        "colab": {
          "base_uri": "https://localhost:8080/",
          "height": 437
        },
        "outputId": "11f78d17-557c-48f7-859b-8589f2f327c1"
      },
      "source": [
        "#Viewing the countries with the spending the most time on the site.\n",
        "f <- ggplot(country, aes(x = n, y = `Country`))\n",
        "\n",
        "f + geom_col(aes(fill = `Country`)) "
      ],
      "execution_count": null,
      "outputs": [
        {
          "output_type": "display_data",
          "data": {
            "image/png": "[encoded data removed]",
            "text/plain": [
              "plot without title"
            ]
          },
          "metadata": {
            "tags": [],
            "image/png": {
              "width": 420,
              "height": 420
            }
          }
        }
      ]
    },
    {
      "cell_type": "markdown",
      "metadata": {
        "id": "dtxVTUkHct6a",
        "colab_type": "text"
      },
      "source": [
        "There is more time being spent on the site in these countries:\n",
        "\n",
        "*   Greece\n",
        "*   France\n",
        "*   Czech Republic\n",
        "*   Senegal\n",
        "*   Afghanistan\n",
        "\n",
        "\n",
        "\n"
      ]
    },
    {
      "cell_type": "code",
      "metadata": {
        "id": "Har-eQkhXW2E",
        "colab_type": "code",
        "colab": {
          "base_uri": "https://localhost:8080/",
          "height": 51
        },
        "outputId": "631b0564-1142-4913-e0ba-ad3b2c6a72f6"
      },
      "source": [
        "#Grouping the Daily time spent on site by the cities.\n",
        "city <- df %>% \n",
        "  group_by(City) %>%\n",
        "  summarise(n=sum(Time_Spent_on_Site, na.rm=TRUE)) %>%\n",
        "  arrange(desc(n))%>%\n",
        "  head(10)"
      ],
      "execution_count": null,
      "outputs": [
        {
          "output_type": "stream",
          "text": [
            "`summarise()` ungrouping output (override with `.groups` argument)\n",
            "\n"
          ],
          "name": "stderr"
        }
      ]
    },
    {
      "cell_type": "code",
      "metadata": {
        "id": "UrzQjA0KXe75",
        "colab_type": "code",
        "colab": {
          "base_uri": "https://localhost:8080/",
          "height": 437
        },
        "outputId": "784c6163-953f-4ca0-ae5d-f74264b14d2c"
      },
      "source": [
        "#Viewing the highest daily time spent on the site in the countries.\n",
        "g <- ggplot(city, aes(x = n, y = `City`))\n",
        "\n",
        "g + geom_col(aes(fill = `City`)) "
      ],
      "execution_count": null,
      "outputs": [
        {
          "output_type": "display_data",
          "data": {
            "image/png": "[encoded data removed]",
            "text/plain": [
              "plot without title"
            ]
          },
          "metadata": {
            "tags": [],
            "image/png": {
              "width": 420,
              "height": 420
            }
          }
        }
      ]
    },
    {
      "cell_type": "markdown",
      "metadata": {
        "id": "gkQpPT7udfD5",
        "colab_type": "text"
      },
      "source": [
        "More daily time in spent on the site in the following cities respectively:\n",
        "\n",
        "\n",
        "*   Williamsport\n",
        "*   New Jessicaport\n",
        "*   Pamelamouth\n",
        "*   Lisamouth\n",
        "*   Johnstad\n",
        "\n"
      ]
    },
    {
      "cell_type": "code",
      "metadata": {
        "id": "WFa8ympSOdlO",
        "colab_type": "code",
        "colab": {
          "base_uri": "https://localhost:8080/",
          "height": 51
        },
        "outputId": "ad2d7bc5-8c73-4aca-d636-4e5f9416624f"
      },
      "source": [
        "#Grouping the average age of the individuals who clicked the ad\n",
        "age <- df %>% \n",
        "  group_by(Clicked_on_Ad) %>%\n",
        "  summarise(n=mean(Age, na.rm=TRUE))"
      ],
      "execution_count": null,
      "outputs": [
        {
          "output_type": "stream",
          "text": [
            "`summarise()` ungrouping output (override with `.groups` argument)\n",
            "\n"
          ],
          "name": "stderr"
        }
      ]
    },
    {
      "cell_type": "code",
      "metadata": {
        "id": "t4ctvfs-edki",
        "colab_type": "code",
        "colab": {
          "base_uri": "https://localhost:8080/",
          "height": 437
        },
        "outputId": "bf51b6ea-e71e-4bb8-cc23-b9d9943f3440"
      },
      "source": [
        "#Displaying the average age of the individals who clicked the ads.\n",
        "h <- ggplot(age, aes(x = `Clicked_on_Ad`, y = n))\n",
        "\n",
        "h + geom_col(aes(fill = `Clicked_on_Ad`)) +\n",
        "  scale_fill_manual(values = c(\"red\", \"green\"))"
      ],
      "execution_count": null,
      "outputs": [
        {
          "output_type": "display_data",
          "data": {
            "image/png": "[encoded data removed]",
            "text/plain": [
              "plot without title"
            ]
          },
          "metadata": {
            "tags": [],
            "image/png": {
              "width": 420,
              "height": 420
            }
          }
        }
      ]
    },
    {
      "cell_type": "markdown",
      "metadata": {
        "id": "BmpQLIgNiJ2P",
        "colab_type": "text"
      },
      "source": [
        "The individuals who did not clicked the ad were around 32 years of age while the ones who actually clicked the ad were aroudn 40 years of age."
      ]
    },
    {
      "cell_type": "code",
      "metadata": {
        "id": "FPEf8zJfpibz",
        "colab_type": "code",
        "colab": {
          "base_uri": "https://localhost:8080/",
          "height": 51
        },
        "outputId": "d2d9fdb2-e83c-4ec8-f855-58c76b76cd59"
      },
      "source": [
        "#Grouping Number of Clicks in a country and picing the ten highest.\n",
        "country_ad <- df %>% \n",
        "  group_by(Country) %>%\n",
        "  summarise(n=sum(Clicked_on_Ad, na.rm=TRUE)) %>%\n",
        "  arrange(desc(n))%>%\n",
        "  head(10)"
      ],
      "execution_count": null,
      "outputs": [
        {
          "output_type": "stream",
          "text": [
            "`summarise()` ungrouping output (override with `.groups` argument)\n",
            "\n"
          ],
          "name": "stderr"
        }
      ]
    },
    {
      "cell_type": "code",
      "metadata": {
        "id": "YzOq2HW6pw4a",
        "colab_type": "code",
        "colab": {
          "base_uri": "https://localhost:8080/",
          "height": 437
        },
        "outputId": "39976cf8-0785-4062-ade2-2ae9d9003ac5"
      },
      "source": [
        "#Visualizing the clicks in a country.\n",
        "i <- ggplot(country_ad, aes(x = `Country`, y = n))\n",
        "\n",
        "i + geom_col(aes(fill = `Country`)) "
      ],
      "execution_count": null,
      "outputs": [
        {
          "output_type": "display_data",
          "data": {
            "image/png": "[encoded data removed]",
            "text/plain": [
              "plot without title"
            ]
          },
          "metadata": {
            "tags": [],
            "image/png": {
              "width": 420,
              "height": 420
            }
          }
        }
      ]
    },
    {
      "cell_type": "markdown",
      "metadata": {
        "id": "-ga54Xv6rCu8",
        "colab_type": "text"
      },
      "source": [
        "The countries that had the highest click through are:\n",
        "\n",
        "\n",
        "*   Autralia, Ethiopia and Turkey had the highest clicks of her ads.\n",
        "*   Liechtenstein and South Africa followed as well.\n",
        "\n"
      ]
    },
    {
      "cell_type": "code",
      "metadata": {
        "id": "wl_Vnl4nwNs3",
        "colab_type": "code",
        "colab": {
          "base_uri": "https://localhost:8080/",
          "height": 51
        },
        "outputId": "aefaef46-9d84-4d97-be4f-2881231d4e4a"
      },
      "source": [
        "#Finding out the mean number of seconds an individual takes to click an ad or not\n",
        "daily_time <- df %>% \n",
        "  group_by(Clicked_on_Ad) %>%\n",
        "  summarise(n=mean(Time_Spent_on_Site, na.rm=TRUE)) %>%"
      ],
      "execution_count": null,
      "outputs": [
        {
          "output_type": "stream",
          "text": [
            "`summarise()` ungrouping output (override with `.groups` argument)\n",
            "\n"
          ],
          "name": "stderr"
        }
      ]
    },
    {
      "cell_type": "code",
      "metadata": {
        "id": "nKGTgVyxwf62",
        "colab_type": "code",
        "colab": {
          "base_uri": "https://localhost:8080/",
          "height": 437
        },
        "outputId": "a58cbdbc-6319-417d-e26c-3ea09efbf071"
      },
      "source": [
        "#Visualizing the results.\n",
        "m <- ggplot(daily_time, aes(x = `Clicked_on_Ad`, y = n))\n",
        "\n",
        "m + geom_col(aes(fill = `Clicked_on_Ad`)) +\n",
        "  scale_fill_manual(values = c(\"green\", \"chocolate4\"))"
      ],
      "execution_count": null,
      "outputs": [
        {
          "output_type": "display_data",
          "data": {
            "image/png": "[encoded data removed]",
            "text/plain": [
              "plot without title"
            ]
          },
          "metadata": {
            "tags": [],
            "image/png": {
              "width": 420,
              "height": 420
            }
          }
        }
      ]
    },
    {
      "cell_type": "markdown",
      "metadata": {
        "id": "n1cTcer_xU2k",
        "colab_type": "text"
      },
      "source": [
        "An individual takes an average of 53 seconds to click and ad and an average of 76 seconds not to click an ad."
      ]
    },
    {
      "cell_type": "code",
      "metadata": {
        "id": "a3wIO6jqxTGo",
        "colab_type": "code",
        "colab": {
          "base_uri": "https://localhost:8080/",
          "height": 51
        },
        "outputId": "99de1773-62a3-473b-bfe6-093a224036ba"
      },
      "source": [
        "#Grouping the mean area income by the Click through rate of an individual.\n",
        "area_income <- df %>% \n",
        "  group_by(Clicked_on_Ad) %>%\n",
        "  summarise(n=mean(Area_Income, na.rm=TRUE))"
      ],
      "execution_count": null,
      "outputs": [
        {
          "output_type": "stream",
          "text": [
            "`summarise()` ungrouping output (override with `.groups` argument)\n",
            "\n"
          ],
          "name": "stderr"
        }
      ]
    },
    {
      "cell_type": "code",
      "metadata": {
        "id": "eXcTmU8RyEdS",
        "colab_type": "code",
        "colab": {
          "base_uri": "https://localhost:8080/",
          "height": 437
        },
        "outputId": "fe2959b7-1644-4ca3-86e6-f4d2939fb3f3"
      },
      "source": [
        "#Visualzing the results.\n",
        "n <- ggplot(area_income, aes(x = `Clicked_on_Ad`, y = n))\n",
        "\n",
        "n + geom_col(aes(fill = `Clicked_on_Ad`)) +\n",
        "  scale_fill_manual(values = c(\"red\", \"violet\"))"
      ],
      "execution_count": null,
      "outputs": [
        {
          "output_type": "display_data",
          "data": {
            "image/png": "[encoded data removed]",
            "text/plain": [
              "plot without title"
            ]
          },
          "metadata": {
            "tags": [],
            "image/png": {
              "width": 420,
              "height": 420
            }
          }
        }
      ]
    },
    {
      "cell_type": "markdown",
      "metadata": {
        "id": "8757QdDtygUb",
        "colab_type": "text"
      },
      "source": [
        "Persons with an area income of around 48000 clicked the ad. Persons who did not click the ad had an area of income of around 60000."
      ]
    },
    {
      "cell_type": "code",
      "metadata": {
        "id": "KuftdRGMz3vJ",
        "colab_type": "code",
        "colab": {
          "base_uri": "https://localhost:8080/",
          "height": 51
        },
        "outputId": "65c3c0d0-f9d8-4c5c-90d7-5f9cc6d2fb2d"
      },
      "source": [
        "#Grouping Daily Internet Usage according to whether one clicked an ad or not.\n",
        "internet_usage <- df %>% \n",
        "  group_by(Clicked_on_Ad) %>%\n",
        "  summarise(n=mean(Daily_Internet_Usage, na.rm=TRUE))"
      ],
      "execution_count": null,
      "outputs": [
        {
          "output_type": "stream",
          "text": [
            "`summarise()` ungrouping output (override with `.groups` argument)\n",
            "\n"
          ],
          "name": "stderr"
        }
      ]
    },
    {
      "cell_type": "code",
      "metadata": {
        "id": "oH2xbnDW0Do1",
        "colab_type": "code",
        "colab": {
          "base_uri": "https://localhost:8080/",
          "height": 437
        },
        "outputId": "a672ee65-4a00-4569-9f9b-531b2167a6f8"
      },
      "source": [
        "#Viewing the results\n",
        "o <- ggplot(internet_usage, aes(x = `Clicked_on_Ad`, y = n))\n",
        "\n",
        "o + geom_col(aes(fill = `Clicked_on_Ad`)) +\n",
        "  scale_fill_manual(values = c(\"blue\", \"orange\"))"
      ],
      "execution_count": null,
      "outputs": [
        {
          "output_type": "display_data",
          "data": {
            "image/png": "[encoded data removed]",
            "text/plain": [
              "plot without title"
            ]
          },
          "metadata": {
            "tags": [],
            "image/png": {
              "width": 420,
              "height": 420
            }
          }
        }
      ]
    },
    {
      "cell_type": "markdown",
      "metadata": {
        "id": "w256V23S0R7r",
        "colab_type": "text"
      },
      "source": [
        "The persons who clicked the ad had an average lower internet spending than their counterparts. The persons who clicked had an daily internet spending of 145, while the ones who did not click had an average spending of 214."
      ]
    },
    {
      "cell_type": "code",
      "metadata": {
        "id": "5icfBouS47wy",
        "colab_type": "code",
        "colab": {}
      },
      "source": [
        "#Importing the necessary library to make correlation plots\n",
        "library(ggcorrplot)"
      ],
      "execution_count": null,
      "outputs": []
    },
    {
      "cell_type": "code",
      "metadata": {
        "id": "5gOlbiOP-Oee",
        "colab_type": "code",
        "colab": {}
      },
      "source": [
        "#Subsetting numerical columns in the datatable\n",
        "numerical_cols <- (colnames(df) == 'Time_Spent_on_Site' | colnames(df) == 'Age' | colnames(df) == 'Area_Income' | colnames(df) == 'Daily_Internet_Usage' | colnames(df) == 'Clicked_on_Ad')\n",
        "cols <- subset(df,,numerical_cols)"
      ],
      "execution_count": null,
      "outputs": []
    },
    {
      "cell_type": "code",
      "metadata": {
        "id": "n03iG5qoHvwi",
        "colab_type": "code",
        "colab": {
          "base_uri": "https://localhost:8080/",
          "height": 162
        },
        "outputId": "5f55442a-ac5a-4f9c-f14d-c4015ed694a5"
      },
      "source": [
        "#Finding correlations in our numerical columns.\n",
        "cor(cols)"
      ],
      "execution_count": null,
      "outputs": [
        {
          "output_type": "display_data",
          "data": {
            "text/plain": [
              "                     Time_Spent_on_Site Age        Area_Income\n",
              "Time_Spent_on_Site    1.0000000         -0.3315133  0.3109544 \n",
              "Age                  -0.3315133          1.0000000 -0.1826050 \n",
              "Area_Income           0.3109544         -0.1826050  1.0000000 \n",
              "Daily_Internet_Usage  0.5186585         -0.3672086  0.3374955 \n",
              "Clicked_on_Ad        -0.7481166          0.4925313 -0.4762546 \n",
              "                     Daily_Internet_Usage Clicked_on_Ad\n",
              "Time_Spent_on_Site    0.5186585           -0.7481166   \n",
              "Age                  -0.3672086            0.4925313   \n",
              "Area_Income           0.3374955           -0.4762546   \n",
              "Daily_Internet_Usage  1.0000000           -0.7865392   \n",
              "Clicked_on_Ad        -0.7865392            1.0000000   "
            ],
            "text/latex": "A matrix: 5 × 5 of type dbl\n\\begin{tabular}{r|lllll}\n  & Time\\_Spent\\_on\\_Site & Age & Area\\_Income & Daily\\_Internet\\_Usage & Clicked\\_on\\_Ad\\\\\n\\hline\n\tTime\\_Spent\\_on\\_Site &  1.0000000 & -0.3315133 &  0.3109544 &  0.5186585 & -0.7481166\\\\\n\tAge & -0.3315133 &  1.0000000 & -0.1826050 & -0.3672086 &  0.4925313\\\\\n\tArea\\_Income &  0.3109544 & -0.1826050 &  1.0000000 &  0.3374955 & -0.4762546\\\\\n\tDaily\\_Internet\\_Usage &  0.5186585 & -0.3672086 &  0.3374955 &  1.0000000 & -0.7865392\\\\\n\tClicked\\_on\\_Ad & -0.7481166 &  0.4925313 & -0.4762546 & -0.7865392 &  1.0000000\\\\\n\\end{tabular}\n",
            "text/markdown": "\nA matrix: 5 × 5 of type dbl\n\n| <!--/--> | Time_Spent_on_Site | Age | Area_Income | Daily_Internet_Usage | Clicked_on_Ad |\n|---|---|---|---|---|---|\n| Time_Spent_on_Site |  1.0000000 | -0.3315133 |  0.3109544 |  0.5186585 | -0.7481166 |\n| Age | -0.3315133 |  1.0000000 | -0.1826050 | -0.3672086 |  0.4925313 |\n| Area_Income |  0.3109544 | -0.1826050 |  1.0000000 |  0.3374955 | -0.4762546 |\n| Daily_Internet_Usage |  0.5186585 | -0.3672086 |  0.3374955 |  1.0000000 | -0.7865392 |\n| Clicked_on_Ad | -0.7481166 |  0.4925313 | -0.4762546 | -0.7865392 |  1.0000000 |\n\n",
            "text/html": [
              "<table>\n",
              "<caption>A matrix: 5 × 5 of type dbl</caption>\n",
              "<thead>\n",
              "\t<tr><th></th><th scope=col>Time_Spent_on_Site</th><th scope=col>Age</th><th scope=col>Area_Income</th><th scope=col>Daily_Internet_Usage</th><th scope=col>Clicked_on_Ad</th></tr>\n",
              "</thead>\n",
              "<tbody>\n",
              "\t<tr><th scope=row>Time_Spent_on_Site</th><td> 1.0000000</td><td>-0.3315133</td><td> 0.3109544</td><td> 0.5186585</td><td>-0.7481166</td></tr>\n",
              "\t<tr><th scope=row>Age</th><td>-0.3315133</td><td> 1.0000000</td><td>-0.1826050</td><td>-0.3672086</td><td> 0.4925313</td></tr>\n",
              "\t<tr><th scope=row>Area_Income</th><td> 0.3109544</td><td>-0.1826050</td><td> 1.0000000</td><td> 0.3374955</td><td>-0.4762546</td></tr>\n",
              "\t<tr><th scope=row>Daily_Internet_Usage</th><td> 0.5186585</td><td>-0.3672086</td><td> 0.3374955</td><td> 1.0000000</td><td>-0.7865392</td></tr>\n",
              "\t<tr><th scope=row>Clicked_on_Ad</th><td>-0.7481166</td><td> 0.4925313</td><td>-0.4762546</td><td>-0.7865392</td><td> 1.0000000</td></tr>\n",
              "</tbody>\n",
              "</table>\n"
            ]
          },
          "metadata": {
            "tags": []
          }
        }
      ]
    },
    {
      "cell_type": "markdown",
      "metadata": {
        "id": "saNyvqoQLWVP",
        "colab_type": "text"
      },
      "source": [
        "Key takeways from the correlation matrix above:\n",
        "\n",
        "\n",
        "*   The Time spent on Site has a negative impact on whether one will click an ad.\n",
        "*   The Daily Internet Usage has also a strong impact on whether one will click an ad or not.\n",
        "*   The Time Spent on Site and the Daily Internet Usage has a positive linear relationship.\n",
        "*   The Age and whether one clicked an ad has also a positive linear relationship.\n",
        "\n"
      ]
    },
    {
      "cell_type": "code",
      "metadata": {
        "id": "PGtMcZ0-9cq8",
        "colab_type": "code",
        "colab": {
          "base_uri": "https://localhost:8080/",
          "height": 437
        },
        "outputId": "fe2495d6-fd26-4ca5-f36c-cb7e92f81f26"
      },
      "source": [
        "#Visualizing the Correlation Matrix.\n",
        "corrplot(cor(cols), method=\"shade\", tl.col=\"black\", tl.srt=45)"
      ],
      "execution_count": null,
      "outputs": [
        {
          "output_type": "display_data",
          "data": {
            "image/png": "[encoded data removed]",
            "text/plain": [
              "Plot with title “”"
            ]
          },
          "metadata": {
            "tags": [],
            "image/png": {
              "width": 420,
              "height": 420
            }
          }
        }
      ]
    },
    {
      "cell_type": "markdown",
      "metadata": {
        "id": "PzGZQj0kKt3F",
        "colab_type": "text"
      },
      "source": [
        "The Red areas represent the strongly negatively correlated and the Blue areas show a positive linear relationship."
      ]
    },
    {
      "cell_type": "code",
      "metadata": {
        "id": "AHaTztxn2VJd",
        "colab_type": "code",
        "colab": {}
      },
      "source": [
        "cols = cols[, c(\"Clicked_on_Ad\"):=NULL] "
      ],
      "execution_count": null,
      "outputs": []
    },
    {
      "cell_type": "markdown",
      "metadata": {
        "id": "uCg2C_TH6G4Y",
        "colab_type": "text"
      },
      "source": [
        "Installing the package to do Standard Deviation in all continuous variable columns."
      ]
    },
    {
      "cell_type": "markdown",
      "metadata": {
        "id": "QQJJVeu3JgeA",
        "colab_type": "text"
      },
      "source": [
        "# Measures of Central Tendency and Spread"
      ]
    },
    {
      "cell_type": "code",
      "metadata": {
        "id": "gBnckktq5UaT",
        "colab_type": "code",
        "colab": {
          "base_uri": "https://localhost:8080/",
          "height": 119
        },
        "outputId": "3659dc0b-b693-4226-fb8f-df6ea3ed2e5b"
      },
      "source": [
        "#Installing fBasics\n",
        "install.packages(\"fBasics\", dependencies=TRUE)"
      ],
      "execution_count": null,
      "outputs": [
        {
          "output_type": "stream",
          "text": [
            "Installing package into ‘/usr/local/lib/R/site-library’\n",
            "(as ‘lib’ is unspecified)\n",
            "\n",
            "also installing the dependencies ‘timeSeries’, ‘gss’, ‘stabledist’, ‘akima’, ‘RUnit’\n",
            "\n",
            "\n"
          ],
          "name": "stderr"
        }
      ]
    },
    {
      "cell_type": "code",
      "metadata": {
        "id": "wLsJsqVH2t9-",
        "colab_type": "code",
        "colab": {
          "base_uri": "https://localhost:8080/",
          "height": 85
        },
        "outputId": "324d0b40-899b-448a-90e2-8451f2d8f1bd"
      },
      "source": [
        "#Loading fBasics on our notebook.\n",
        "library('fBasics')"
      ],
      "execution_count": null,
      "outputs": [
        {
          "output_type": "stream",
          "text": [
            "Loading required package: timeDate\n",
            "\n",
            "Loading required package: timeSeries\n",
            "\n"
          ],
          "name": "stderr"
        }
      ]
    },
    {
      "cell_type": "code",
      "metadata": {
        "id": "C4njTkJm6ACt",
        "colab_type": "code",
        "colab": {
          "base_uri": "https://localhost:8080/",
          "height": 34
        },
        "outputId": "111d14b5-cf65-407c-f08d-59809603964e"
      },
      "source": [
        "#Finding the mean in our continuous variable columns.\n",
        "colMeans(cols)"
      ],
      "execution_count": null,
      "outputs": [
        {
          "output_type": "display_data",
          "data": {
            "text/plain": [
              "  Time_Spent_on_Site                  Age          Area_Income \n",
              "             65.0002              36.0090           55000.0001 \n",
              "Daily_Internet_Usage \n",
              "            180.0001 "
            ],
            "text/latex": "\\begin{description*}\n\\item[Time\\textbackslash{}\\_Spent\\textbackslash{}\\_on\\textbackslash{}\\_Site] 65.0002\n\\item[Age] 36.009\n\\item[Area\\textbackslash{}\\_Income] 55000.00008\n\\item[Daily\\textbackslash{}\\_Internet\\textbackslash{}\\_Usage] 180.0001\n\\end{description*}\n",
            "text/markdown": "Time_Spent_on_Site\n:   65.0002Age\n:   36.009Area_Income\n:   55000.00008Daily_Internet_Usage\n:   180.0001\n\n",
            "text/html": [
              "<style>\n",
              ".dl-inline {width: auto; margin:0; padding: 0}\n",
              ".dl-inline>dt, .dl-inline>dd {float: none; width: auto; display: inline-block}\n",
              ".dl-inline>dt::after {content: \":\\0020\"; padding-right: .5ex}\n",
              ".dl-inline>dt:not(:first-of-type) {padding-left: .5ex}\n",
              "</style><dl class=dl-inline><dt>Time_Spent_on_Site</dt><dd>65.0002</dd><dt>Age</dt><dd>36.009</dd><dt>Area_Income</dt><dd>55000.00008</dd><dt>Daily_Internet_Usage</dt><dd>180.0001</dd></dl>\n"
            ]
          },
          "metadata": {
            "tags": []
          }
        }
      ]
    },
    {
      "cell_type": "markdown",
      "metadata": {
        "id": "d1IG299ZJUIu",
        "colab_type": "text"
      },
      "source": [
        "The means in our columns are:\n",
        "\n",
        "*   The mean time spent in our data is 65\n",
        "*   The mean age in our data is 36.\n",
        "*   The mean Area income is 55000.\n",
        "*   The Daily Internet Usage is 180.\n",
        "\n"
      ]
    },
    {
      "cell_type": "code",
      "metadata": {
        "id": "2Bn2Jda152bE",
        "colab_type": "code",
        "colab": {
          "base_uri": "https://localhost:8080/",
          "height": 34
        },
        "outputId": "dc5941d0-fbb0-47d8-ec8c-9c1c5baedb76"
      },
      "source": [
        "#Finding the Standard Deviation in our continuous variable columns.\n",
        "colStdevs(cols)"
      ],
      "execution_count": null,
      "outputs": [
        {
          "output_type": "display_data",
          "data": {
            "text/plain": [
              "  Time_Spent_on_Site                  Age          Area_Income \n",
              "           15.853615             8.785562         13414.634022 \n",
              "Daily_Internet_Usage \n",
              "           43.902339 "
            ],
            "text/latex": "\\begin{description*}\n\\item[Time\\textbackslash{}\\_Spent\\textbackslash{}\\_on\\textbackslash{}\\_Site] 15.8536145675002\n\\item[Age] 8.78556231012592\n\\item[Area\\textbackslash{}\\_Income] 13414.6340222824\n\\item[Daily\\textbackslash{}\\_Internet\\textbackslash{}\\_Usage] 43.9023393019801\n\\end{description*}\n",
            "text/markdown": "Time_Spent_on_Site\n:   15.8536145675002Age\n:   8.78556231012592Area_Income\n:   13414.6340222824Daily_Internet_Usage\n:   43.9023393019801\n\n",
            "text/html": [
              "<style>\n",
              ".dl-inline {width: auto; margin:0; padding: 0}\n",
              ".dl-inline>dt, .dl-inline>dd {float: none; width: auto; display: inline-block}\n",
              ".dl-inline>dt::after {content: \":\\0020\"; padding-right: .5ex}\n",
              ".dl-inline>dt:not(:first-of-type) {padding-left: .5ex}\n",
              "</style><dl class=dl-inline><dt>Time_Spent_on_Site</dt><dd>15.8536145675002</dd><dt>Age</dt><dd>8.78556231012592</dd><dt>Area_Income</dt><dd>13414.6340222824</dd><dt>Daily_Internet_Usage</dt><dd>43.9023393019801</dd></dl>\n"
            ]
          },
          "metadata": {
            "tags": []
          }
        }
      ]
    },
    {
      "cell_type": "code",
      "metadata": {
        "id": "ljZJmB1Q67A4",
        "colab_type": "code",
        "colab": {
          "base_uri": "https://localhost:8080/",
          "height": 34
        },
        "outputId": "f29185d4-d508-4a2c-b5b5-3de40f07e930"
      },
      "source": [
        "#Getting the variance in our continuous variable columns\n",
        "colVars(cols)"
      ],
      "execution_count": null,
      "outputs": [
        {
          "output_type": "display_data",
          "data": {
            "text/plain": [
              "  Time_Spent_on_Site                  Age          Area_Income \n",
              "        2.513371e+02         7.718611e+01         1.799524e+08 \n",
              "Daily_Internet_Usage \n",
              "        1.927415e+03 "
            ],
            "text/latex": "\\begin{description*}\n\\item[Time\\textbackslash{}\\_Spent\\textbackslash{}\\_on\\textbackslash{}\\_Site] 251.337094854855\n\\item[Age] 77.1861051051051\n\\item[Area\\textbackslash{}\\_Income] 179952405.951775\n\\item[Daily\\textbackslash{}\\_Internet\\textbackslash{}\\_Usage] 1927.41539618619\n\\end{description*}\n",
            "text/markdown": "Time_Spent_on_Site\n:   251.337094854855Age\n:   77.1861051051051Area_Income\n:   179952405.951775Daily_Internet_Usage\n:   1927.41539618619\n\n",
            "text/html": [
              "<style>\n",
              ".dl-inline {width: auto; margin:0; padding: 0}\n",
              ".dl-inline>dt, .dl-inline>dd {float: none; width: auto; display: inline-block}\n",
              ".dl-inline>dt::after {content: \":\\0020\"; padding-right: .5ex}\n",
              ".dl-inline>dt:not(:first-of-type) {padding-left: .5ex}\n",
              "</style><dl class=dl-inline><dt>Time_Spent_on_Site</dt><dd>251.337094854855</dd><dt>Age</dt><dd>77.1861051051051</dd><dt>Area_Income</dt><dd>179952405.951775</dd><dt>Daily_Internet_Usage</dt><dd>1927.41539618619</dd></dl>\n"
            ]
          },
          "metadata": {
            "tags": []
          }
        }
      ]
    },
    {
      "cell_type": "code",
      "metadata": {
        "id": "SQcbm0DC7uXy",
        "colab_type": "code",
        "colab": {
          "base_uri": "https://localhost:8080/",
          "height": 34
        },
        "outputId": "62c91fa0-ad4a-4516-df0f-c7816c2c8313"
      },
      "source": [
        "#Getting the skewness in our continuous variable columns.\n",
        "skewness(cols)"
      ],
      "execution_count": null,
      "outputs": [
        {
          "output_type": "display_data",
          "data": {
            "text/plain": [
              "  Time_Spent_on_Site                  Age          Area_Income \n",
              "         -0.37064595           0.47770522          -0.64842285 \n",
              "Daily_Internet_Usage \n",
              "         -0.03343681 "
            ],
            "text/latex": "\\begin{description*}\n\\item[Time\\textbackslash{}\\_Spent\\textbackslash{}\\_on\\textbackslash{}\\_Site] -0.370645950169329\n\\item[Age] 0.477705221630714\n\\item[Area\\textbackslash{}\\_Income] -0.648422850205901\n\\item[Daily\\textbackslash{}\\_Internet\\textbackslash{}\\_Usage] -0.0334368136557063\n\\end{description*}\n",
            "text/markdown": "Time_Spent_on_Site\n:   -0.370645950169329Age\n:   0.477705221630714Area_Income\n:   -0.648422850205901Daily_Internet_Usage\n:   -0.0334368136557063\n\n",
            "text/html": [
              "<style>\n",
              ".dl-inline {width: auto; margin:0; padding: 0}\n",
              ".dl-inline>dt, .dl-inline>dd {float: none; width: auto; display: inline-block}\n",
              ".dl-inline>dt::after {content: \":\\0020\"; padding-right: .5ex}\n",
              ".dl-inline>dt:not(:first-of-type) {padding-left: .5ex}\n",
              "</style><dl class=dl-inline><dt>Time_Spent_on_Site</dt><dd>-0.370645950169329</dd><dt>Age</dt><dd>0.477705221630714</dd><dt>Area_Income</dt><dd>-0.648422850205901</dd><dt>Daily_Internet_Usage</dt><dd>-0.0334368136557063</dd></dl>\n"
            ]
          },
          "metadata": {
            "tags": []
          }
        }
      ]
    },
    {
      "cell_type": "markdown",
      "metadata": {
        "id": "pn0nflFNJ-9l",
        "colab_type": "text"
      },
      "source": [
        "Key Takeways:\n",
        "\n",
        "\n",
        "*   The Age is approximately symmetric.\n",
        "*   The Area Income is moderately skewed.\n",
        "\n"
      ]
    },
    {
      "cell_type": "code",
      "metadata": {
        "id": "Ck1TSDcm75NY",
        "colab_type": "code",
        "colab": {
          "base_uri": "https://localhost:8080/",
          "height": 34
        },
        "outputId": "cb892eeb-2ef3-46aa-b9a2-1e7c7fc11ce2"
      },
      "source": [
        "#Getting the kurtosis of our continuous variables.\n",
        "kurtosis(cols)"
      ],
      "execution_count": null,
      "outputs": [
        {
          "output_type": "display_data",
          "data": {
            "text/plain": [
              "  Time_Spent_on_Site                  Age          Area_Income \n",
              "          -1.0998638           -0.4097066           -0.1110924 \n",
              "Daily_Internet_Usage \n",
              "          -1.2757525 "
            ],
            "text/latex": "\\begin{description*}\n\\item[Time\\textbackslash{}\\_Spent\\textbackslash{}\\_on\\textbackslash{}\\_Site] -1.09986382635506\n\\item[Age] -0.409706599977131\n\\item[Area\\textbackslash{}\\_Income] -0.111092431809917\n\\item[Daily\\textbackslash{}\\_Internet\\textbackslash{}\\_Usage] -1.27575249371253\n\\end{description*}\n",
            "text/markdown": "Time_Spent_on_Site\n:   -1.09986382635506Age\n:   -0.409706599977131Area_Income\n:   -0.111092431809917Daily_Internet_Usage\n:   -1.27575249371253\n\n",
            "text/html": [
              "<style>\n",
              ".dl-inline {width: auto; margin:0; padding: 0}\n",
              ".dl-inline>dt, .dl-inline>dd {float: none; width: auto; display: inline-block}\n",
              ".dl-inline>dt::after {content: \":\\0020\"; padding-right: .5ex}\n",
              ".dl-inline>dt:not(:first-of-type) {padding-left: .5ex}\n",
              "</style><dl class=dl-inline><dt>Time_Spent_on_Site</dt><dd>-1.09986382635506</dd><dt>Age</dt><dd>-0.409706599977131</dd><dt>Area_Income</dt><dd>-0.111092431809917</dd><dt>Daily_Internet_Usage</dt><dd>-1.27575249371253</dd></dl>\n"
            ]
          },
          "metadata": {
            "tags": []
          }
        }
      ]
    },
    {
      "cell_type": "markdown",
      "metadata": {
        "id": "2LlEGAPRKfhH",
        "colab_type": "text"
      },
      "source": [
        "Key take aways:\n",
        "\n",
        "\n",
        "*   The Daily Time Spent on Site distribution shape is almost flat\n",
        "*   The Daily Internet Usage distribution is also as well almost flat.\n",
        "\n"
      ]
    },
    {
      "cell_type": "code",
      "metadata": {
        "id": "IpBC6TVB9TMF",
        "colab_type": "code",
        "colab": {
          "base_uri": "https://localhost:8080/",
          "height": 181
        },
        "outputId": "0bb16ff9-c2d9-426c-b83c-19031d704be1"
      },
      "source": [
        "#Getting the quartile ranges \n",
        "lapply(cols,quantile,probs=c(0.25,0.75))"
      ],
      "execution_count": null,
      "outputs": [
        {
          "output_type": "display_data",
          "data": {
            "text/plain": [
              "$Time_Spent_on_Site\n",
              "    25%     75% \n",
              "51.3600 78.5475 \n",
              "\n",
              "$Age\n",
              "25% 75% \n",
              " 29  42 \n",
              "\n",
              "$Area_Income\n",
              "     25%      75% \n",
              "47031.80 65470.64 \n",
              "\n",
              "$Daily_Internet_Usage\n",
              "     25%      75% \n",
              "138.8300 218.7925 \n"
            ],
            "text/latex": "\\begin{description}\n\\item[\\$Time\\_Spent\\_on\\_Site] \\begin{description*}\n\\item[25\\textbackslash{}\\%] 51.36\n\\item[75\\textbackslash{}\\%] 78.5475\n\\end{description*}\n\n\\item[\\$Age] \\begin{description*}\n\\item[25\\textbackslash{}\\%] 29\n\\item[75\\textbackslash{}\\%] 42\n\\end{description*}\n\n\\item[\\$Area\\_Income] \\begin{description*}\n\\item[25\\textbackslash{}\\%] 47031.8025\n\\item[75\\textbackslash{}\\%] 65470.635\n\\end{description*}\n\n\\item[\\$Daily\\_Internet\\_Usage] \\begin{description*}\n\\item[25\\textbackslash{}\\%] 138.83\n\\item[75\\textbackslash{}\\%] 218.7925\n\\end{description*}\n\n\\end{description}\n",
            "text/markdown": "$Time_Spent_on_Site\n:   25%\n:   51.3675%\n:   78.5475\n\n\n$Age\n:   25%\n:   2975%\n:   42\n\n\n$Area_Income\n:   25%\n:   47031.802575%\n:   65470.635\n\n\n$Daily_Internet_Usage\n:   25%\n:   138.8375%\n:   218.7925\n\n\n\n\n",
            "text/html": [
              "<dl>\n",
              "\t<dt>$Time_Spent_on_Site</dt>\n",
              "\t\t<dd><style>\n",
              ".dl-inline {width: auto; margin:0; padding: 0}\n",
              ".dl-inline>dt, .dl-inline>dd {float: none; width: auto; display: inline-block}\n",
              ".dl-inline>dt::after {content: \":\\0020\"; padding-right: .5ex}\n",
              ".dl-inline>dt:not(:first-of-type) {padding-left: .5ex}\n",
              "</style><dl class=dl-inline><dt>25%</dt><dd>51.36</dd><dt>75%</dt><dd>78.5475</dd></dl>\n",
              "</dd>\n",
              "\t<dt>$Age</dt>\n",
              "\t\t<dd><style>\n",
              ".dl-inline {width: auto; margin:0; padding: 0}\n",
              ".dl-inline>dt, .dl-inline>dd {float: none; width: auto; display: inline-block}\n",
              ".dl-inline>dt::after {content: \":\\0020\"; padding-right: .5ex}\n",
              ".dl-inline>dt:not(:first-of-type) {padding-left: .5ex}\n",
              "</style><dl class=dl-inline><dt>25%</dt><dd>29</dd><dt>75%</dt><dd>42</dd></dl>\n",
              "</dd>\n",
              "\t<dt>$Area_Income</dt>\n",
              "\t\t<dd><style>\n",
              ".dl-inline {width: auto; margin:0; padding: 0}\n",
              ".dl-inline>dt, .dl-inline>dd {float: none; width: auto; display: inline-block}\n",
              ".dl-inline>dt::after {content: \":\\0020\"; padding-right: .5ex}\n",
              ".dl-inline>dt:not(:first-of-type) {padding-left: .5ex}\n",
              "</style><dl class=dl-inline><dt>25%</dt><dd>47031.8025</dd><dt>75%</dt><dd>65470.635</dd></dl>\n",
              "</dd>\n",
              "\t<dt>$Daily_Internet_Usage</dt>\n",
              "\t\t<dd><style>\n",
              ".dl-inline {width: auto; margin:0; padding: 0}\n",
              ".dl-inline>dt, .dl-inline>dd {float: none; width: auto; display: inline-block}\n",
              ".dl-inline>dt::after {content: \":\\0020\"; padding-right: .5ex}\n",
              ".dl-inline>dt:not(:first-of-type) {padding-left: .5ex}\n",
              "</style><dl class=dl-inline><dt>25%</dt><dd>138.83</dd><dt>75%</dt><dd>218.7925</dd></dl>\n",
              "</dd>\n",
              "</dl>\n"
            ]
          },
          "metadata": {
            "tags": []
          }
        }
      ]
    },
    {
      "cell_type": "code",
      "metadata": {
        "id": "QqE66B439pMe",
        "colab_type": "code",
        "colab": {}
      },
      "source": [
        "#Picking categorical columns in our dataset to analyze\n",
        "cat_cols <- !(colnames(df) == 'Time_Spent_on_Site' | colnames(df) == 'Age' | colnames(df) == 'Area_Income' | colnames(df) == 'Daily_Internet_Usage')\n",
        "cats <- subset(df,,cat_cols)"
      ],
      "execution_count": null,
      "outputs": []
    },
    {
      "cell_type": "code",
      "metadata": {
        "id": "s7rps5_J-f1q",
        "colab_type": "code",
        "colab": {}
      },
      "source": [
        "#Creating a mode function\n",
        "calculate_mode <- function(x) {\n",
        "  uniqx <- unique(x)\n",
        "  uniqx[which.max(tabulate(match(x, uniqx)))]\n",
        "}"
      ],
      "execution_count": null,
      "outputs": []
    },
    {
      "cell_type": "code",
      "metadata": {
        "id": "ASlLv3zF_kU7",
        "colab_type": "code",
        "colab": {
          "base_uri": "https://localhost:8080/",
          "height": 133
        },
        "outputId": "2ddea59d-3a27-45dd-d3a1-a8b22b16d6f2"
      },
      "source": [
        "#Getting the City that had the most individuals.\n",
        "library(dplyr)\n",
        "\n",
        "df %>% \n",
        "  group_by(City) %>% \n",
        "  summarise(city = calculate_mode(City))"
      ],
      "execution_count": null,
      "outputs": [
        {
          "output_type": "display_data",
          "data": {
            "text/plain": [
              "  city     \n",
              "1 Lisamouth"
            ],
            "text/latex": "A data.frame: 1 × 1\n\\begin{tabular}{l}\n city\\\\\n <chr>\\\\\n\\hline\n\t Lisamouth\\\\\n\\end{tabular}\n",
            "text/markdown": "\nA data.frame: 1 × 1\n\n| city &lt;chr&gt; |\n|---|\n| Lisamouth |\n\n",
            "text/html": [
              "<table>\n",
              "<caption>A data.frame: 1 × 1</caption>\n",
              "<thead>\n",
              "\t<tr><th scope=col>city</th></tr>\n",
              "\t<tr><th scope=col>&lt;chr&gt;</th></tr>\n",
              "</thead>\n",
              "<tbody>\n",
              "\t<tr><td>Lisamouth</td></tr>\n",
              "</tbody>\n",
              "</table>\n"
            ]
          },
          "metadata": {
            "tags": []
          }
        }
      ]
    },
    {
      "cell_type": "markdown",
      "metadata": {
        "id": "RsNhsgNdEniR",
        "colab_type": "text"
      },
      "source": [
        "Lisamouth was the City with the most individuals."
      ]
    },
    {
      "cell_type": "code",
      "metadata": {
        "id": "IZ0dJ4pxAFHf",
        "colab_type": "code",
        "colab": {
          "base_uri": "https://localhost:8080/",
          "height": 133
        },
        "outputId": "aeaa6b79-85a4-4590-e3ba-93bc44504e12"
      },
      "source": [
        "#Getting the Gender that was mentioned most.\n",
        "df %>% \n",
        "  group_by(Gender) %>% \n",
        "  summarise(gender = calculate_mode(Gender))"
      ],
      "execution_count": null,
      "outputs": [
        {
          "output_type": "display_data",
          "data": {
            "text/plain": [
              "  gender\n",
              "1 Female"
            ],
            "text/latex": "A data.frame: 1 × 1\n\\begin{tabular}{l}\n gender\\\\\n <chr>\\\\\n\\hline\n\t Female\\\\\n\\end{tabular}\n",
            "text/markdown": "\nA data.frame: 1 × 1\n\n| gender &lt;chr&gt; |\n|---|\n| Female |\n\n",
            "text/html": [
              "<table>\n",
              "<caption>A data.frame: 1 × 1</caption>\n",
              "<thead>\n",
              "\t<tr><th scope=col>gender</th></tr>\n",
              "\t<tr><th scope=col>&lt;chr&gt;</th></tr>\n",
              "</thead>\n",
              "<tbody>\n",
              "\t<tr><td>Female</td></tr>\n",
              "</tbody>\n",
              "</table>\n"
            ]
          },
          "metadata": {
            "tags": []
          }
        }
      ]
    },
    {
      "cell_type": "markdown",
      "metadata": {
        "id": "jZjnsa9cEyxp",
        "colab_type": "text"
      },
      "source": [
        "Our data table had most Females."
      ]
    },
    {
      "cell_type": "code",
      "metadata": {
        "id": "tTw5d8jKALRT",
        "colab_type": "code",
        "colab": {
          "base_uri": "https://localhost:8080/",
          "height": 116
        },
        "outputId": "f7e67b79-2f75-4744-89e3-ec3ed444ec7a"
      },
      "source": [
        "#Getting the Country with most persons.\n",
        "df %>% \n",
        "  group_by(Country) %>% \n",
        "  summarise(country = calculate_mode(Country))"
      ],
      "execution_count": null,
      "outputs": [
        {
          "output_type": "display_data",
          "data": {
            "text/plain": [
              "  country       \n",
              "1 Czech Republic"
            ],
            "text/latex": "A data.frame: 1 × 1\n\\begin{tabular}{l}\n country\\\\\n <chr>\\\\\n\\hline\n\t Czech Republic\\\\\n\\end{tabular}\n",
            "text/markdown": "\nA data.frame: 1 × 1\n\n| country &lt;chr&gt; |\n|---|\n| Czech Republic |\n\n",
            "text/html": [
              "<table>\n",
              "<caption>A data.frame: 1 × 1</caption>\n",
              "<thead>\n",
              "\t<tr><th scope=col>country</th></tr>\n",
              "\t<tr><th scope=col>&lt;chr&gt;</th></tr>\n",
              "</thead>\n",
              "<tbody>\n",
              "\t<tr><td>Czech Republic</td></tr>\n",
              "</tbody>\n",
              "</table>\n"
            ]
          },
          "metadata": {
            "tags": []
          }
        }
      ]
    },
    {
      "cell_type": "markdown",
      "metadata": {
        "id": "GHhAaJQjE9hu",
        "colab_type": "text"
      },
      "source": [
        "Czech Republic is the mode with in the Country column."
      ]
    },
    {
      "cell_type": "code",
      "metadata": {
        "id": "AEKLvZFNASp9",
        "colab_type": "code",
        "colab": {
          "base_uri": "https://localhost:8080/",
          "height": 133
        },
        "outputId": "b2169717-a305-4ced-bf08-2533ee38bd60"
      },
      "source": [
        "#Getting the month with the most persons.\n",
        "df %>% \n",
        "  group_by(Month) %>% \n",
        "  summarise(month = calculate_mode(Month))"
      ],
      "execution_count": null,
      "outputs": [
        {
          "output_type": "display_data",
          "data": {
            "text/plain": [
              "  month\n",
              "1 02   "
            ],
            "text/latex": "A data.frame: 1 × 1\n\\begin{tabular}{l}\n month\\\\\n <chr>\\\\\n\\hline\n\t 02\\\\\n\\end{tabular}\n",
            "text/markdown": "\nA data.frame: 1 × 1\n\n| month &lt;chr&gt; |\n|---|\n| 02 |\n\n",
            "text/html": [
              "<table>\n",
              "<caption>A data.frame: 1 × 1</caption>\n",
              "<thead>\n",
              "\t<tr><th scope=col>month</th></tr>\n",
              "\t<tr><th scope=col>&lt;chr&gt;</th></tr>\n",
              "</thead>\n",
              "<tbody>\n",
              "\t<tr><td>02</td></tr>\n",
              "</tbody>\n",
              "</table>\n"
            ]
          },
          "metadata": {
            "tags": []
          }
        }
      ]
    },
    {
      "cell_type": "markdown",
      "metadata": {
        "id": "_LQ_T1sLFRRF",
        "colab_type": "text"
      },
      "source": [
        "February is the month with the mode in our dataset."
      ]
    },
    {
      "cell_type": "code",
      "metadata": {
        "id": "m-bOdKvsAY64",
        "colab_type": "code",
        "colab": {
          "base_uri": "https://localhost:8080/",
          "height": 133
        },
        "outputId": "24a065df-c22f-4207-feaa-d5b47a98e3ac"
      },
      "source": [
        "#Getting the mode in the Day Column.\n",
        "df %>% \n",
        "  group_by(Day) %>% \n",
        "  summarise(day = calculate_mode(Day))"
      ],
      "execution_count": null,
      "outputs": [
        {
          "output_type": "display_data",
          "data": {
            "text/plain": [
              "  day\n",
              "1 03 "
            ],
            "text/latex": "A data.frame: 1 × 1\n\\begin{tabular}{l}\n day\\\\\n <chr>\\\\\n\\hline\n\t 03\\\\\n\\end{tabular}\n",
            "text/markdown": "\nA data.frame: 1 × 1\n\n| day &lt;chr&gt; |\n|---|\n| 03 |\n\n",
            "text/html": [
              "<table>\n",
              "<caption>A data.frame: 1 × 1</caption>\n",
              "<thead>\n",
              "\t<tr><th scope=col>day</th></tr>\n",
              "\t<tr><th scope=col>&lt;chr&gt;</th></tr>\n",
              "</thead>\n",
              "<tbody>\n",
              "\t<tr><td>03</td></tr>\n",
              "</tbody>\n",
              "</table>\n"
            ]
          },
          "metadata": {
            "tags": []
          }
        }
      ]
    },
    {
      "cell_type": "markdown",
      "metadata": {
        "id": "XrNEMLhlFjeQ",
        "colab_type": "text"
      },
      "source": [
        "The 3rd day is the mode in our dataset."
      ]
    },
    {
      "cell_type": "markdown",
      "metadata": {
        "id": "bNDeOztKMZSu",
        "colab_type": "text"
      },
      "source": [
        "# Conclusion"
      ]
    },
    {
      "cell_type": "markdown",
      "metadata": {
        "id": "S7MkvVj7Mc7y",
        "colab_type": "text"
      },
      "source": [
        "The entrepreneur should check these in her marketing strategy when starting the cryptography course:\n",
        "\n",
        "\n",
        "*   The average daily time spent of a person who clicked the ad is less than the one who did not. Therefore she should focus on individuals who are light browsers. The average time a person time on the site is 53 seconds to click on the ad.\n",
        "*   The more a person aged the more likely the person was likely to be interested in cryptography. The mean age of a person who clciked the ad was 40 years of age.\n",
        "*  Females were more likely to click the cryptography ad. Probably the ad lines were more female oriented therefore attracting more women. More analysis can be carried out in this particular area.\n",
        "*  The individuals from this countries were more likely to click the ad: \n",
        "\n",
        "     *   Autralia\n",
        "     *   Ethiopia \n",
        "     *   Turkey\n",
        "     *   South Africa\n",
        "     *   Liechtenstein.\n",
        "\n",
        "     More data on more cities can be provided upon request.\n",
        "*  The individuals from these cities were more likely to click the ad:\n",
        "\n",
        "    *  Williamsport\n",
        "    *   New Jessicaport\n",
        "    *   Pamelamouth\n",
        "    *   Lisamouth\n",
        "    *   Johnstad\n",
        "\n",
        "    More city names can be provided upon request.\n",
        "\n",
        "*   Individuals from a generally middle income areas clicked the ads more than the ones from a higher income area. The ones who clicked the ad were from an average area income of 48000 and the ones who did not click were from an average area income of 60000.\n",
        "*   The pattern of income areas was also displayed in the daily internet usage. A lower daily internet usage clicked the ads more than the ones who had a higher internet usage.    \n",
        "    \n",
        "    \n",
        "\n",
        "\n"
      ]
    },
    {
      "cell_type": "markdown",
      "metadata": {
        "id": "KoycOrZOVUzE",
        "colab_type": "text"
      },
      "source": [
        "# Challenging the Solution"
      ]
    },
    {
      "cell_type": "markdown",
      "metadata": {
        "id": "_9Dt4JxJmrWA",
        "colab_type": "text"
      },
      "source": [
        "*  More analysis can be done on the head line. To extract important information on which topic excites which country. \n",
        "*  The hour data was also dropped which could be used to analyze which was the peak hour for the clicking of the ads.\n",
        "*  I could also do a hypothesis test to test for the significant difference between the daily time spent on sites. There could be no significant difference between the daily time spent on sites in different countries. \n",
        "*  It was observed that there was a very strong relation between time spent on sites and the clicking of an ad.\n"
      ]
    },
    {
      "cell_type": "markdown",
      "metadata": {
        "id": "kfaNJWkBK-IY",
        "colab_type": "text"
      },
      "source": [
        "# Random Forest Classifcation"
      ]
    },
    {
      "cell_type": "markdown",
      "metadata": {
        "id": "tL3dQKHNIfZ0",
        "colab_type": "text"
      },
      "source": [
        "Random forests or random decision forests are an ensemble learning method for classification, regression and other tasks that operate by constructing a multitude of decision trees at training time and outputting the class that is the mode of the classes (classification) or mean prediction (regression) of the individual trees.Random decision forests correct for decision trees' habit of overfitting to their training set."
      ]
    },
    {
      "cell_type": "code",
      "metadata": {
        "id": "yua_JIBgK9zI",
        "colab_type": "code",
        "colab": {
          "base_uri": "https://localhost:8080/",
          "height": 221
        },
        "outputId": "113d2f58-d263-4ed1-b72b-362114d6e4d8"
      },
      "source": [
        "#Installing the package needed for the classification which are the rpart, rpart.plot,mlbench\n",
        "install.packages(\"rpart\",dependencies = TRUE)\n",
        "install.packages(\"rpart.plot\",dependencies=TRUE)\n",
        "install.packages(\"mlbench\",dependencies = TRUE)"
      ],
      "execution_count": 13,
      "outputs": [
        {
          "output_type": "stream",
          "text": [
            "Installing package into ‘/usr/local/lib/R/site-library’\n",
            "(as ‘lib’ is unspecified)\n",
            "\n",
            "Installing package into ‘/usr/local/lib/R/site-library’\n",
            "(as ‘lib’ is unspecified)\n",
            "\n",
            "also installing the dependencies ‘plotrix’, ‘plotmo’, ‘TeachingDemos’, ‘earth’\n",
            "\n",
            "\n",
            "Installing package into ‘/usr/local/lib/R/site-library’\n",
            "(as ‘lib’ is unspecified)\n",
            "\n"
          ],
          "name": "stderr"
        }
      ]
    },
    {
      "cell_type": "code",
      "metadata": {
        "id": "3YpH6AlqNPkL",
        "colab_type": "code",
        "colab": {}
      },
      "source": [
        "#Loading the libraries in our notebook.\n",
        "library(\"rpart\")\n",
        "library(\"rpart.plot\")\n",
        "library(\"mlbench\")"
      ],
      "execution_count": 14,
      "outputs": []
    },
    {
      "cell_type": "markdown",
      "metadata": {
        "id": "pTUbimAIIy9b",
        "colab_type": "text"
      },
      "source": [
        "I decided to reduce cardinality by segmenting the countries in their respective continents."
      ]
    },
    {
      "cell_type": "code",
      "metadata": {
        "id": "t3zkUiS6thtl",
        "colab_type": "code",
        "colab": {
          "base_uri": "https://localhost:8080/",
          "height": 68
        },
        "outputId": "270452c9-f897-4f63-e03c-d37b23a719b5"
      },
      "source": [
        "#Importing the countrycode package\n",
        "install.packages(\"countrycode\",dependencies = TRUE)"
      ],
      "execution_count": 16,
      "outputs": [
        {
          "output_type": "stream",
          "text": [
            "Installing package into ‘/usr/local/lib/R/site-library’\n",
            "(as ‘lib’ is unspecified)\n",
            "\n"
          ],
          "name": "stderr"
        }
      ]
    },
    {
      "cell_type": "code",
      "metadata": {
        "id": "VmhH9GYetuLV",
        "colab_type": "code",
        "colab": {}
      },
      "source": [
        "#Loading the package in my notebook\n",
        "library(\"countrycode\")"
      ],
      "execution_count": 17,
      "outputs": []
    },
    {
      "cell_type": "code",
      "metadata": {
        "id": "KmRh04Gjt7p0",
        "colab_type": "code",
        "colab": {
          "base_uri": "https://localhost:8080/",
          "height": 88
        },
        "outputId": "72ed12dc-35df-423d-dd6b-4fe999539874"
      },
      "source": [
        "#Adding a continent column and segmeting in the respective continents.\n",
        "df$continent <- countrycode(sourcevar = df[, Country],\n",
        "                            origin = \"country.name\",\n",
        "                            destination = \"continent\")"
      ],
      "execution_count": 53,
      "outputs": [
        {
          "output_type": "stream",
          "text": [
            "Warning message in countrycode(sourcevar = df[, Country], origin = \"country.name\", :\n",
            "“Some values were not matched unambiguously: Antarctica (the territory South of 60 deg S), Bouvet Island (Bouvetoya), British Indian Ocean Territory (Chagos Archipelago), French Southern Territories, Heard Island and McDonald Islands, Micronesia, Saint Martin, South Georgia and the South Sandwich Islands, United States Minor Outlying Islands\n",
            "”\n"
          ],
          "name": "stderr"
        }
      ]
    },
    {
      "cell_type": "code",
      "metadata": {
        "id": "zURzYYoevNYx",
        "colab_type": "code",
        "colab": {}
      },
      "source": [
        "#Dropping the City column and the Country column.\n",
        "df = df[, c(\"City\",\"Country\"):=NULL] "
      ],
      "execution_count": 55,
      "outputs": []
    },
    {
      "cell_type": "code",
      "metadata": {
        "id": "fxsxT58dM1xT",
        "colab_type": "code",
        "colab": {}
      },
      "source": [
        "#Factorizing the continet and Gender column\n",
        "df$continent <- as.integer(as.factor(df$continent))\n",
        "df$Gender <- as.integer(as.factor(df$Gender))"
      ],
      "execution_count": 56,
      "outputs": []
    },
    {
      "cell_type": "code",
      "metadata": {
        "id": "UqcFQJiY5mx1",
        "colab_type": "code",
        "colab": {
          "base_uri": "https://localhost:8080/",
          "height": 204
        },
        "outputId": "c8d06fa4-d549-4461-e67e-52d62d9f4bf5"
      },
      "source": [
        "#Previewing the changes in the dataset\n",
        "head(df)"
      ],
      "execution_count": 57,
      "outputs": [
        {
          "output_type": "display_data",
          "data": {
            "text/plain": [
              "  Time_Spent_on_Site Age Area_Income Daily_Internet_Usage Gender Month Day\n",
              "1 68.95              35  61833.90    256.09               1      03    27 \n",
              "2 80.23              31  68441.85    193.77               2      04    04 \n",
              "3 69.47              26  59785.94    236.50               1      03    13 \n",
              "4 74.15              29  54806.18    245.89               2      01    10 \n",
              "5 68.37              35  73889.99    225.58               1      06    03 \n",
              "6 59.99              23  59761.56    226.74               2      05    19 \n",
              "  Clicked_on_Ad continent\n",
              "1 0             1        \n",
              "2 0             5        \n",
              "3 0             4        \n",
              "4 0             4        \n",
              "5 0             4        \n",
              "6 0             4        "
            ],
            "text/latex": "A data.table: 6 × 9\n\\begin{tabular}{lllllllll}\n Time\\_Spent\\_on\\_Site & Age & Area\\_Income & Daily\\_Internet\\_Usage & Gender & Month & Day & Clicked\\_on\\_Ad & continent\\\\\n <dbl> & <int> & <dbl> & <dbl> & <int> & <chr> & <chr> & <int> & <int>\\\\\n\\hline\n\t 68.95 & 35 & 61833.90 & 256.09 & 1 & 03 & 27 & 0 & 1\\\\\n\t 80.23 & 31 & 68441.85 & 193.77 & 2 & 04 & 04 & 0 & 5\\\\\n\t 69.47 & 26 & 59785.94 & 236.50 & 1 & 03 & 13 & 0 & 4\\\\\n\t 74.15 & 29 & 54806.18 & 245.89 & 2 & 01 & 10 & 0 & 4\\\\\n\t 68.37 & 35 & 73889.99 & 225.58 & 1 & 06 & 03 & 0 & 4\\\\\n\t 59.99 & 23 & 59761.56 & 226.74 & 2 & 05 & 19 & 0 & 4\\\\\n\\end{tabular}\n",
            "text/markdown": "\nA data.table: 6 × 9\n\n| Time_Spent_on_Site &lt;dbl&gt; | Age &lt;int&gt; | Area_Income &lt;dbl&gt; | Daily_Internet_Usage &lt;dbl&gt; | Gender &lt;int&gt; | Month &lt;chr&gt; | Day &lt;chr&gt; | Clicked_on_Ad &lt;int&gt; | continent &lt;int&gt; |\n|---|---|---|---|---|---|---|---|---|\n| 68.95 | 35 | 61833.90 | 256.09 | 1 | 03 | 27 | 0 | 1 |\n| 80.23 | 31 | 68441.85 | 193.77 | 2 | 04 | 04 | 0 | 5 |\n| 69.47 | 26 | 59785.94 | 236.50 | 1 | 03 | 13 | 0 | 4 |\n| 74.15 | 29 | 54806.18 | 245.89 | 2 | 01 | 10 | 0 | 4 |\n| 68.37 | 35 | 73889.99 | 225.58 | 1 | 06 | 03 | 0 | 4 |\n| 59.99 | 23 | 59761.56 | 226.74 | 2 | 05 | 19 | 0 | 4 |\n\n",
            "text/html": [
              "<table>\n",
              "<caption>A data.table: 6 × 9</caption>\n",
              "<thead>\n",
              "\t<tr><th scope=col>Time_Spent_on_Site</th><th scope=col>Age</th><th scope=col>Area_Income</th><th scope=col>Daily_Internet_Usage</th><th scope=col>Gender</th><th scope=col>Month</th><th scope=col>Day</th><th scope=col>Clicked_on_Ad</th><th scope=col>continent</th></tr>\n",
              "\t<tr><th scope=col>&lt;dbl&gt;</th><th scope=col>&lt;int&gt;</th><th scope=col>&lt;dbl&gt;</th><th scope=col>&lt;dbl&gt;</th><th scope=col>&lt;int&gt;</th><th scope=col>&lt;chr&gt;</th><th scope=col>&lt;chr&gt;</th><th scope=col>&lt;int&gt;</th><th scope=col>&lt;int&gt;</th></tr>\n",
              "</thead>\n",
              "<tbody>\n",
              "\t<tr><td>68.95</td><td>35</td><td>61833.90</td><td>256.09</td><td>1</td><td>03</td><td>27</td><td>0</td><td>1</td></tr>\n",
              "\t<tr><td>80.23</td><td>31</td><td>68441.85</td><td>193.77</td><td>2</td><td>04</td><td>04</td><td>0</td><td>5</td></tr>\n",
              "\t<tr><td>69.47</td><td>26</td><td>59785.94</td><td>236.50</td><td>1</td><td>03</td><td>13</td><td>0</td><td>4</td></tr>\n",
              "\t<tr><td>74.15</td><td>29</td><td>54806.18</td><td>245.89</td><td>2</td><td>01</td><td>10</td><td>0</td><td>4</td></tr>\n",
              "\t<tr><td>68.37</td><td>35</td><td>73889.99</td><td>225.58</td><td>1</td><td>06</td><td>03</td><td>0</td><td>4</td></tr>\n",
              "\t<tr><td>59.99</td><td>23</td><td>59761.56</td><td>226.74</td><td>2</td><td>05</td><td>19</td><td>0</td><td>4</td></tr>\n",
              "</tbody>\n",
              "</table>\n"
            ]
          },
          "metadata": {
            "tags": []
          }
        }
      ]
    },
    {
      "cell_type": "code",
      "metadata": {
        "id": "L7XKSROV5qSX",
        "colab_type": "code",
        "colab": {}
      },
      "source": [
        "#Maintaing a copy of the dataset\n",
        "copy <- copy(df)"
      ],
      "execution_count": 58,
      "outputs": []
    },
    {
      "cell_type": "code",
      "metadata": {
        "id": "GUuQL4SIOjIh",
        "colab_type": "code",
        "colab": {
          "base_uri": "https://localhost:8080/",
          "height": 68
        },
        "outputId": "6ca3afc0-0f6c-4249-da70-23b22b0083aa"
      },
      "source": [
        "#Installing the random Forest model\n",
        "install.packages(\"randomForest\",dependencies = TRUE)"
      ],
      "execution_count": 27,
      "outputs": [
        {
          "output_type": "stream",
          "text": [
            "Installing package into ‘/usr/local/lib/R/site-library’\n",
            "(as ‘lib’ is unspecified)\n",
            "\n"
          ],
          "name": "stderr"
        }
      ]
    },
    {
      "cell_type": "code",
      "metadata": {
        "id": "wdy6My6JOtF7",
        "colab_type": "code",
        "colab": {
          "base_uri": "https://localhost:8080/",
          "height": 323
        },
        "outputId": "8e2005e3-9434-4fbf-cd5c-41037d70c306"
      },
      "source": [
        "#Loading the random forest in my notebook\n",
        "library(\"randomForest\")"
      ],
      "execution_count": 28,
      "outputs": [
        {
          "output_type": "stream",
          "text": [
            "randomForest 4.6-14\n",
            "\n",
            "Type rfNews() to see new features/changes/bug fixes.\n",
            "\n",
            "\n",
            "Attaching package: ‘randomForest’\n",
            "\n",
            "\n",
            "The following object is masked from ‘package:dplyr’:\n",
            "\n",
            "    combine\n",
            "\n",
            "\n",
            "The following object is masked from ‘package:ggplot2’:\n",
            "\n",
            "    margin\n",
            "\n",
            "\n"
          ],
          "name": "stderr"
        }
      ]
    },
    {
      "cell_type": "code",
      "metadata": {
        "id": "r1YM_ERoO2VN",
        "colab_type": "code",
        "colab": {
          "base_uri": "https://localhost:8080/",
          "height": 731
        },
        "outputId": "2029c706-ac4d-4557-9105-7062d9778163"
      },
      "source": [
        "# Split into Train and Validation sets\n",
        "# Training Set : Validation Set = 70 : 30 (random)\n",
        "set.seed(100)\n",
        "train <- sample(nrow(df), 0.7*nrow(df), replace = FALSE)\n",
        "TrainSet <- df[train,]\n",
        "ValidSet <- df[-train,]\n",
        "summary(TrainSet)\n",
        "summary(ValidSet)"
      ],
      "execution_count": 37,
      "outputs": [
        {
          "output_type": "display_data",
          "data": {
            "text/plain": [
              " Time_Spent_on_Site      Age        Area_Income    Daily_Internet_Usage\n",
              " Min.   :32.60      Min.   :19.0   Min.   :13996   Min.   :104.8       \n",
              " 1st Qu.:52.04      1st Qu.:29.0   1st Qu.:46856   1st Qu.:137.4       \n",
              " Median :68.82      Median :35.0   Median :56782   Median :178.8       \n",
              " Mean   :65.32      Mean   :36.2   Mean   :54879   Mean   :178.8       \n",
              " 3rd Qu.:78.84      3rd Qu.:42.0   3rd Qu.:64928   3rd Qu.:218.9       \n",
              " Max.   :91.37      Max.   :61.0   Max.   :79332   Max.   :261.5       \n",
              "     Gender         Month               Day            Clicked_on_Ad     \n",
              " Min.   :1.000   Length:675         Length:675         Length:675        \n",
              " 1st Qu.:1.000   Class :character   Class :character   Class :character  \n",
              " Median :1.000   Mode  :character   Mode  :character   Mode  :character  \n",
              " Mean   :1.468                                                           \n",
              " 3rd Qu.:2.000                                                           \n",
              " Max.   :2.000                                                           \n",
              "   continent    \n",
              " Min.   :1.000  \n",
              " 1st Qu.:2.000  \n",
              " Median :3.000  \n",
              " Mean   :2.705  \n",
              " 3rd Qu.:4.000  \n",
              " Max.   :5.000  "
            ]
          },
          "metadata": {
            "tags": []
          }
        },
        {
          "output_type": "display_data",
          "data": {
            "text/plain": [
              " Time_Spent_on_Site      Age         Area_Income    Daily_Internet_Usage\n",
              " Min.   :32.60      Min.   :19.00   Min.   :14548   Min.   :105.0       \n",
              " 1st Qu.:51.60      1st Qu.:29.00   1st Qu.:47192   1st Qu.:142.4       \n",
              " Median :67.36      Median :34.00   Median :57557   Median :190.6       \n",
              " Mean   :64.73      Mean   :35.65   Mean   :55191   Mean   :182.2       \n",
              " 3rd Qu.:77.16      3rd Qu.:41.75   3rd Qu.:65871   3rd Qu.:218.7       \n",
              " Max.   :91.43      Max.   :60.00   Max.   :79485   Max.   :270.0       \n",
              "     Gender         Month               Day            Clicked_on_Ad     \n",
              " Min.   :1.000   Length:290         Length:290         Length:290        \n",
              " 1st Qu.:1.000   Class :character   Class :character   Class :character  \n",
              " Median :1.000   Mode  :character   Mode  :character   Mode  :character  \n",
              " Mean   :1.497                                                           \n",
              " 3rd Qu.:2.000                                                           \n",
              " Max.   :2.000                                                           \n",
              "   continent    \n",
              " Min.   :1.000  \n",
              " 1st Qu.:2.000  \n",
              " Median :3.000  \n",
              " Mean   :2.883  \n",
              " 3rd Qu.:4.000  \n",
              " Max.   :5.000  "
            ]
          },
          "metadata": {
            "tags": []
          }
        }
      ]
    },
    {
      "cell_type": "code",
      "metadata": {
        "id": "-F78hGKM4z8N",
        "colab_type": "code",
        "colab": {}
      },
      "source": [
        "#Factorizing the class label to a TRue or False\n",
        "df$Clicked_on_Ad <- factor(df$Clicked_on_Ad, levels = c(0,1), labels = c(\"False\", \"True\"))"
      ],
      "execution_count": 60,
      "outputs": []
    },
    {
      "cell_type": "code",
      "metadata": {
        "id": "ERwigQHDPDxl",
        "colab_type": "code",
        "colab": {
          "base_uri": "https://localhost:8080/",
          "height": 241
        },
        "outputId": "c42326b2-7d16-46e1-9722-f4e3f0390b4d"
      },
      "source": [
        "# Create a Random Forest model with default parameters\n",
        "model1 <- randomForest(y = df$Clicked_on_Ad, x = df[,c(\"Time_Spent_on_Site\",\"Age\",\"Area_Income\",\"Daily_Internet_Usage\",\"Gender\",\"Month\",\"Day\",\"continent\")], keep.forest=FALSE, importance = TRUE,type=\"Class\")\n",
        "model1"
      ],
      "execution_count": 67,
      "outputs": [
        {
          "output_type": "display_data",
          "data": {
            "text/plain": [
              "\n",
              "Call:\n",
              " randomForest(x = df[, c(\"Time_Spent_on_Site\", \"Age\", \"Area_Income\",      \"Daily_Internet_Usage\", \"Gender\", \"Month\", \"Day\", \"continent\")],      y = df$Clicked_on_Ad, importance = TRUE, keep.forest = FALSE,      type = \"Class\") \n",
              "               Type of random forest: classification\n",
              "                     Number of trees: 500\n",
              "No. of variables tried at each split: 2\n",
              "\n",
              "        OOB estimate of  error rate: 3.63%\n",
              "Confusion matrix:\n",
              "      False True class.error\n",
              "False   468   14  0.02904564\n",
              "True     21  462  0.04347826"
            ]
          },
          "metadata": {
            "tags": []
          }
        }
      ]
    },
    {
      "cell_type": "markdown",
      "metadata": {
        "id": "8JoBbc4fJ2FJ",
        "colab_type": "text"
      },
      "source": [
        "The model had a standard error rate 0f 3.63% \n",
        "14 rows were misplaced a True while they were False and 21 rows were misplaced a False while True."
      ]
    },
    {
      "cell_type": "code",
      "metadata": {
        "id": "bGL-376M7Y2j",
        "colab_type": "code",
        "colab": {
          "base_uri": "https://localhost:8080/",
          "height": 437
        },
        "outputId": "bfa6f19f-899f-44bf-a78a-d3df43b5c554"
      },
      "source": [
        "#Viewing the error rate in the model.\n",
        "plot(model1)"
      ],
      "execution_count": 68,
      "outputs": [
        {
          "output_type": "display_data",
          "data": {
            "image/png": "[encoded data removed]",
            "text/plain": [
              "Plot with title “model1”"
            ]
          },
          "metadata": {
            "tags": [],
            "image/png": {
              "width": 420,
              "height": 420
            }
          }
        }
      ]
    },
    {
      "cell_type": "markdown",
      "metadata": {
        "id": "t5IRkuRBKM7M",
        "colab_type": "text"
      },
      "source": [
        "Fewer number of trees had a high error rate compared to the 500 tree used in our model."
      ]
    },
    {
      "cell_type": "markdown",
      "metadata": {
        "id": "uRsfT8r9DAp_",
        "colab_type": "text"
      },
      "source": [
        "# Hyper-parameter Tuning of the Random Forest"
      ]
    },
    {
      "cell_type": "code",
      "metadata": {
        "id": "DLLBeoqZ-GJ0",
        "colab_type": "code",
        "colab": {
          "base_uri": "https://localhost:8080/",
          "height": 173
        },
        "outputId": "7e7fc835-0284-40c8-99a7-d9e145541b05"
      },
      "source": [
        "#Installing the caret package for tuning our model\n",
        "install.packages(\"caret\",dependencies = TRUE)"
      ],
      "execution_count": 75,
      "outputs": [
        {
          "output_type": "stream",
          "text": [
            "Installing package into ‘/usr/local/lib/R/site-library’\n",
            "(as ‘lib’ is unspecified)\n",
            "\n",
            "Warning message:\n",
            "“dependency ‘superpc’ is not available”\n",
            "also installing the dependencies ‘bitops’, ‘numDeriv’, ‘SQUAREM’, ‘R.cache’, ‘gdata’, ‘caTools’, ‘profileModel’, ‘minqa’, ‘nloptr’, ‘statmod’, ‘RcppEigen’, ‘lava’, ‘miniUI’, ‘styler’, ‘labelled’, ‘gplots’, ‘libcoin’, ‘iterators’, ‘gower’, ‘timeDate’, ‘brglm’, ‘gtools’, ‘lme4’, ‘qvcalc’, ‘prodlim’, ‘combinat’, ‘questionr’, ‘ROCR’, ‘modeltools’, ‘strucchange’, ‘coin’, ‘ISwR’, ‘corpcor’, ‘foreach’, ‘plyr’, ‘ModelMetrics’, ‘reshape2’, ‘recipes’, ‘pROC’, ‘BradleyTerry2’, ‘fastICA’, ‘gam’, ‘ipred’, ‘kernlab’, ‘klaR’, ‘ellipse’, ‘mda’, ‘MLmetrics’, ‘party’, ‘pls’, ‘proxy’, ‘RANN’, ‘spls’, ‘subselect’, ‘pamr’, ‘Cubist’\n",
            "\n",
            "\n"
          ],
          "name": "stderr"
        }
      ]
    },
    {
      "cell_type": "code",
      "metadata": {
        "id": "EkUGR32pBOXp",
        "colab_type": "code",
        "colab": {
          "base_uri": "https://localhost:8080/",
          "height": 51
        },
        "outputId": "875eecec-eb1d-4b87-8aac-1959040b402f"
      },
      "source": [
        "#Loading the library in our notebook\n",
        "library(\"caret\")"
      ],
      "execution_count": 76,
      "outputs": [
        {
          "output_type": "stream",
          "text": [
            "Loading required package: lattice\n",
            "\n"
          ],
          "name": "stderr"
        }
      ]
    },
    {
      "cell_type": "code",
      "metadata": {
        "id": "XxcTNQRNBT0e",
        "colab_type": "code",
        "colab": {
          "base_uri": "https://localhost:8080/",
          "height": 221
        },
        "outputId": "29eac7e1-ce26-4f29-bf41-ff469a9222bf"
      },
      "source": [
        "#Installing ranger and loading in our notebook.\n",
        "install.packages(\"ranger\",dependencies = TRUE)\n",
        "library(\"ranger\")"
      ],
      "execution_count": 78,
      "outputs": [
        {
          "output_type": "stream",
          "text": [
            "Installing package into ‘/usr/local/lib/R/site-library’\n",
            "(as ‘lib’ is unspecified)\n",
            "\n",
            "\n",
            "Attaching package: ‘ranger’\n",
            "\n",
            "\n",
            "The following object is masked from ‘package:randomForest’:\n",
            "\n",
            "    importance\n",
            "\n",
            "\n"
          ],
          "name": "stderr"
        }
      ]
    },
    {
      "cell_type": "code",
      "metadata": {
        "id": "xZcGw5Ct9-UT",
        "colab_type": "code",
        "colab": {}
      },
      "source": [
        "#Training our model\n",
        "model <- train(Clicked_on_Ad ~ .,\n",
        "               data = df,\n",
        "               method = \"ranger\",\n",
        "               tuneLength = 5)"
      ],
      "execution_count": 79,
      "outputs": []
    },
    {
      "cell_type": "code",
      "metadata": {
        "id": "NSFFPKL9CoO7",
        "colab_type": "code",
        "colab": {
          "base_uri": "https://localhost:8080/",
          "height": 785
        },
        "outputId": "d0aa1088-ae1a-4607-af8d-1c8d3efacd76"
      },
      "source": [
        "#Hyperparameter tuning of our model. Uing both the gini and extratrees as splitrules\n",
        "set.seed(42)\n",
        "myGrid <- expand.grid(mtry = c(5, 10, 20, 40, 60),\n",
        "                     splitrule = c(\"gini\", \"extratrees\"),\n",
        "                     min.node.size = 10)\n",
        "model <- train(Clicked_on_Ad ~ .,\n",
        "               data = df,\n",
        "               method = \"ranger\", \n",
        "               tuneGrid = myGrid,\n",
        "               trControl = trainControl(method = \"cv\",\n",
        "                                       number = 5,\n",
        "                                       verboseIter = FALSE))"
      ],
      "execution_count": 81,
      "outputs": [
        {
          "output_type": "stream",
          "text": [
            "Warning message:\n",
            "“model fit failed for Fold1: mtry=60, splitrule=gini, min.node.size=10 Error in ranger::ranger(dependent.variable.name = \".outcome\", data = x,  : \n",
            "  User interrupt or internal error.\n",
            "”\n",
            "Warning message:\n",
            "“model fit failed for Fold1: mtry=60, splitrule=extratrees, min.node.size=10 Error in ranger::ranger(dependent.variable.name = \".outcome\", data = x,  : \n",
            "  User interrupt or internal error.\n",
            "”\n",
            "Warning message:\n",
            "“model fit failed for Fold2: mtry=60, splitrule=gini, min.node.size=10 Error in ranger::ranger(dependent.variable.name = \".outcome\", data = x,  : \n",
            "  User interrupt or internal error.\n",
            "”\n",
            "Warning message:\n",
            "“model fit failed for Fold2: mtry=60, splitrule=extratrees, min.node.size=10 Error in ranger::ranger(dependent.variable.name = \".outcome\", data = x,  : \n",
            "  User interrupt or internal error.\n",
            "”\n",
            "Warning message:\n",
            "“model fit failed for Fold3: mtry=60, splitrule=gini, min.node.size=10 Error in ranger::ranger(dependent.variable.name = \".outcome\", data = x,  : \n",
            "  User interrupt or internal error.\n",
            "”\n",
            "Warning message:\n",
            "“model fit failed for Fold3: mtry=60, splitrule=extratrees, min.node.size=10 Error in ranger::ranger(dependent.variable.name = \".outcome\", data = x,  : \n",
            "  User interrupt or internal error.\n",
            "”\n",
            "Warning message:\n",
            "“model fit failed for Fold4: mtry=60, splitrule=gini, min.node.size=10 Error in ranger::ranger(dependent.variable.name = \".outcome\", data = x,  : \n",
            "  User interrupt or internal error.\n",
            "”\n",
            "Warning message:\n",
            "“model fit failed for Fold4: mtry=60, splitrule=extratrees, min.node.size=10 Error in ranger::ranger(dependent.variable.name = \".outcome\", data = x,  : \n",
            "  User interrupt or internal error.\n",
            "”\n",
            "Warning message:\n",
            "“model fit failed for Fold5: mtry=60, splitrule=gini, min.node.size=10 Error in ranger::ranger(dependent.variable.name = \".outcome\", data = x,  : \n",
            "  User interrupt or internal error.\n",
            "”\n",
            "Warning message:\n",
            "“model fit failed for Fold5: mtry=60, splitrule=extratrees, min.node.size=10 Error in ranger::ranger(dependent.variable.name = \".outcome\", data = x,  : \n",
            "  User interrupt or internal error.\n",
            "”\n",
            "Warning message in nominalTrainWorkflow(x = x, y = y, wts = weights, info = trainInfo, :\n",
            "“There were missing values in resampled performance measures.”\n",
            "Warning message in train.default(x, y, weights = w, ...):\n",
            "“missing values found in aggregated results”\n"
          ],
          "name": "stderr"
        }
      ]
    },
    {
      "cell_type": "code",
      "metadata": {
        "id": "7NCS-cL9C3lR",
        "colab_type": "code",
        "colab": {
          "base_uri": "https://localhost:8080/",
          "height": 476
        },
        "outputId": "d01e97af-3440-4cae-8b7c-96e4c220240e"
      },
      "source": [
        "#Checking the performance of the tuning\n",
        "model"
      ],
      "execution_count": 82,
      "outputs": [
        {
          "output_type": "display_data",
          "data": {
            "text/plain": [
              "Random Forest \n",
              "\n",
              "965 samples\n",
              "  8 predictor\n",
              "  2 classes: 'False', 'True' \n",
              "\n",
              "No pre-processing\n",
              "Resampling: Cross-Validated (5 fold) \n",
              "Summary of sample sizes: 772, 772, 772, 773, 771 \n",
              "Resampling results across tuning parameters:\n",
              "\n",
              "  mtry  splitrule   Accuracy   Kappa    \n",
              "   5    gini        0.9637195  0.9274396\n",
              "   5    extratrees  0.9616522  0.9233126\n",
              "  10    gini        0.9657974  0.9315985\n",
              "  10    extratrees  0.9616308  0.9232694\n",
              "  20    gini        0.9647450  0.9294942\n",
              "  20    extratrees  0.9637087  0.9274237\n",
              "  40    gini        0.9585166  0.9170396\n",
              "  40    extratrees  0.9647504  0.9295048\n",
              "  60    gini              NaN        NaN\n",
              "  60    extratrees        NaN        NaN\n",
              "\n",
              "Tuning parameter 'min.node.size' was held constant at a value of 10\n",
              "Accuracy was used to select the optimal model using the largest value.\n",
              "The final values used for the model were mtry = 10, splitrule = gini\n",
              " and min.node.size = 10."
            ]
          },
          "metadata": {
            "tags": []
          }
        }
      ]
    },
    {
      "cell_type": "markdown",
      "metadata": {
        "id": "WTfTwR6bK2LJ",
        "colab_type": "text"
      },
      "source": [
        "With an mtry of 10 and splitrule of gini our model achived the highest accuracy of close to 97%."
      ]
    },
    {
      "cell_type": "code",
      "metadata": {
        "id": "lxho6qEoDuTy",
        "colab_type": "code",
        "colab": {
          "base_uri": "https://localhost:8080/",
          "height": 437
        },
        "outputId": "cc4a3cbd-ff67-4fc9-f58d-53a2b50c7e4f"
      },
      "source": [
        "#Plotting the tuning of our model\n",
        "plot(model)"
      ],
      "execution_count": 83,
      "outputs": [
        {
          "output_type": "display_data",
          "data": {
            "image/png": "[encoded data removed]",
            "text/plain": [
              "plot without title"
            ]
          },
          "metadata": {
            "tags": [],
            "image/png": {
              "width": 420,
              "height": 420
            }
          }
        }
      ]
    },
    {
      "cell_type": "markdown",
      "metadata": {
        "id": "CsyQrYbqLI5r",
        "colab_type": "text"
      },
      "source": [
        "Evidently the gini splitrule and the 10 random selected predictor worked well for our model."
      ]
    },
    {
      "cell_type": "code",
      "metadata": {
        "id": "LbUO6hCP8rNT",
        "colab_type": "code",
        "colab": {
          "base_uri": "https://localhost:8080/",
          "height": 153
        },
        "outputId": "384c2b93-50e3-4418-b7f3-53e4a236ed9a"
      },
      "source": [
        "# Using the rpart library to viualize the true\n",
        "model2 <- rpart(Clicked_on_Ad ~ ., data = df, cp=0.2)\n",
        "model2"
      ],
      "execution_count": 71,
      "outputs": [
        {
          "output_type": "display_data",
          "data": {
            "text/plain": [
              "n= 965 \n",
              "\n",
              "node), split, n, loss, yval, (yprob)\n",
              "      * denotes terminal node\n",
              "\n",
              "1) root 965 482 True (0.4994819 0.5005181)  \n",
              "  2) Daily_Internet_Usage>=177.505 504  59 False (0.8829365 0.1170635) *\n",
              "  3) Daily_Internet_Usage< 177.505 461  37 True (0.0802603 0.9197397) *"
            ]
          },
          "metadata": {
            "tags": []
          }
        }
      ]
    },
    {
      "cell_type": "code",
      "metadata": {
        "id": "SlLUmF4O9NUv",
        "colab_type": "code",
        "colab": {
          "base_uri": "https://localhost:8080/",
          "height": 437
        },
        "outputId": "2ae54bea-c829-4673-bef7-25a98699a932"
      },
      "source": [
        "# Visualize the decision tree with rpart.plot\n",
        "rpart.plot(model2, box.palette=\"RdBu\", shadow.col=\"gray\", nn=TRUE)"
      ],
      "execution_count": 73,
      "outputs": [
        {
          "output_type": "display_data",
          "data": {
            "image/png": "[encoded data removed]",
            "text/plain": [
              "plot without title"
            ]
          },
          "metadata": {
            "tags": [],
            "image/png": {
              "width": 420,
              "height": 420
            }
          }
        }
      ]
    },
    {
      "cell_type": "markdown",
      "metadata": {
        "id": "L_Rm0ElLNXlk",
        "colab_type": "text"
      },
      "source": [
        "The daily internet usage was used to split the tree and had the highest information gain. With a 178 seconds decision criteria the model was able to place whether one clicked an ad. The daily internet usage was therefore an important variable."
      ]
    },
    {
      "cell_type": "markdown",
      "metadata": {
        "id": "sVs_zB-XoiR_",
        "colab_type": "text"
      },
      "source": [
        "#  Appropriateness of the data to the problem."
      ]
    },
    {
      "cell_type": "markdown",
      "metadata": {
        "id": "ATB3ts64onVb",
        "colab_type": "text"
      },
      "source": [
        "The data well explained the relation with an individual clicking an ad. \n",
        "It would be best if the data collector could segement the site news into sectors for easier univariate and bivariate analysis. "
      ]
    }
  ]
}